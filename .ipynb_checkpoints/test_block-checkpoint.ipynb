{
 "cells": [
  {
   "cell_type": "code",
   "execution_count": 1,
   "metadata": {
    "scrolled": true
   },
   "outputs": [
    {
     "name": "stderr",
     "output_type": "stream",
     "text": [
      "/Users/thisiszhou/.virtualenvs/learn/lib/python3.6/site-packages/tensorflow/python/framework/dtypes.py:526: FutureWarning: Passing (type, 1) or '1type' as a synonym of type is deprecated; in a future version of numpy, it will be understood as (type, (1,)) / '(1,)type'.\n",
      "  _np_qint8 = np.dtype([(\"qint8\", np.int8, 1)])\n",
      "/Users/thisiszhou/.virtualenvs/learn/lib/python3.6/site-packages/tensorflow/python/framework/dtypes.py:527: FutureWarning: Passing (type, 1) or '1type' as a synonym of type is deprecated; in a future version of numpy, it will be understood as (type, (1,)) / '(1,)type'.\n",
      "  _np_quint8 = np.dtype([(\"quint8\", np.uint8, 1)])\n",
      "/Users/thisiszhou/.virtualenvs/learn/lib/python3.6/site-packages/tensorflow/python/framework/dtypes.py:528: FutureWarning: Passing (type, 1) or '1type' as a synonym of type is deprecated; in a future version of numpy, it will be understood as (type, (1,)) / '(1,)type'.\n",
      "  _np_qint16 = np.dtype([(\"qint16\", np.int16, 1)])\n",
      "/Users/thisiszhou/.virtualenvs/learn/lib/python3.6/site-packages/tensorflow/python/framework/dtypes.py:529: FutureWarning: Passing (type, 1) or '1type' as a synonym of type is deprecated; in a future version of numpy, it will be understood as (type, (1,)) / '(1,)type'.\n",
      "  _np_quint16 = np.dtype([(\"quint16\", np.uint16, 1)])\n",
      "/Users/thisiszhou/.virtualenvs/learn/lib/python3.6/site-packages/tensorflow/python/framework/dtypes.py:530: FutureWarning: Passing (type, 1) or '1type' as a synonym of type is deprecated; in a future version of numpy, it will be understood as (type, (1,)) / '(1,)type'.\n",
      "  _np_qint32 = np.dtype([(\"qint32\", np.int32, 1)])\n",
      "/Users/thisiszhou/.virtualenvs/learn/lib/python3.6/site-packages/tensorflow/python/framework/dtypes.py:535: FutureWarning: Passing (type, 1) or '1type' as a synonym of type is deprecated; in a future version of numpy, it will be understood as (type, (1,)) / '(1,)type'.\n",
      "  np_resource = np.dtype([(\"resource\", np.ubyte, 1)])\n"
     ]
    }
   ],
   "source": [
    "from network.blocks import darknet53_body, yolo_fpn_head, regression_head\n",
    "from network.layers import conv\n",
    "from network.layers import conv_transpose\n",
    "import tensorflow as tf\n",
    "import numpy as np\n",
    "import cv2"
   ]
  },
  {
   "cell_type": "code",
   "execution_count": 2,
   "metadata": {},
   "outputs": [
    {
     "name": "stdout",
     "output_type": "stream",
     "text": [
      "WARNING:tensorflow:From /Users/thisiszhou/.virtualenvs/learn/lib/python3.6/site-packages/tensorflow/python/framework/op_def_library.py:263: colocate_with (from tensorflow.python.framework.ops) is deprecated and will be removed in a future version.\n",
      "Instructions for updating:\n",
      "Colocations handled automatically by placer.\n"
     ]
    }
   ],
   "source": [
    "pic = cv2.imread(\"demo/pic1.jpg\")\n",
    "pic = cv2.resize(pic, (256,256))\n",
    "pic = np.array([pic])\n",
    "pic_tf = tf.Variable(pic, dtype=np.float32)\n",
    "f1, f2, f3 = darknet53_body(pic_tf, trainable=True)\n",
    "\n",
    "f = [f1,f2,f3]\n",
    "out_nets, upsample_nets = yolo_fpn_head(f, trainable=True)\n",
    "\n",
    "\n",
    "reg, mask = regression_head(out_nets, upsample_nets, trainable=True)\n"
   ]
  },
  {
   "cell_type": "code",
   "execution_count": 3,
   "metadata": {},
   "outputs": [
    {
     "data": {
      "text/plain": [
       "[<tf.Tensor 'concat_5:0' shape=(1, 8, 8, 3, 86) dtype=float32>,\n",
       " <tf.Tensor 'concat_6:0' shape=(1, 16, 16, 3, 86) dtype=float32>,\n",
       " <tf.Tensor 'concat_7:0' shape=(1, 32, 32, 3, 86) dtype=float32>]"
      ]
     },
     "execution_count": 3,
     "metadata": {},
     "output_type": "execute_result"
    }
   ],
   "source": [
    "reg"
   ]
  },
  {
   "cell_type": "code",
   "execution_count": 4,
   "metadata": {},
   "outputs": [
    {
     "data": {
      "text/plain": [
       "[<tf.Tensor 'Sigmoid_1:0' shape=(1, 8, 8, 3, 32, 32) dtype=float32>,\n",
       " <tf.Tensor 'Sigmoid_3:0' shape=(1, 16, 16, 3, 16, 16) dtype=float32>,\n",
       " <tf.Tensor 'Sigmoid_5:0' shape=(1, 32, 32, 3, 8, 8) dtype=float32>]"
      ]
     },
     "execution_count": 4,
     "metadata": {},
     "output_type": "execute_result"
    }
   ],
   "source": [
    "mask"
   ]
  },
  {
   "cell_type": "code",
   "execution_count": 5,
   "metadata": {},
   "outputs": [
    {
     "data": {
      "text/plain": [
       "[<tf.Tensor 'yolo_block1/5_conv/LeakyRelu:0' shape=(1, 8, 8, 512) dtype=float32>,\n",
       " <tf.Tensor 'yolo_block2/5_conv/LeakyRelu:0' shape=(1, 16, 16, 256) dtype=float32>,\n",
       " <tf.Tensor 'yolo_block3/5_conv/LeakyRelu:0' shape=(1, 32, 32, 128) dtype=float32>]"
      ]
     },
     "execution_count": 5,
     "metadata": {},
     "output_type": "execute_result"
    }
   ],
   "source": [
    "out_nets"
   ]
  },
  {
   "cell_type": "code",
   "execution_count": 3,
   "metadata": {},
   "outputs": [
    {
     "data": {
      "text/plain": [
       "[<tf.Tensor 'before_yb_convtrans_1/LeakyRelu:0' shape=(1, 16, 16, 256) dtype=float32>,\n",
       " <tf.Tensor 'before_yb_convtrans_2/LeakyRelu:0' shape=(1, 32, 32, 128) dtype=float32>,\n",
       " <tf.Tensor 'before_yb_convtrans_3/LeakyRelu:0' shape=(1, 64, 64, 64) dtype=float32>]"
      ]
     },
     "execution_count": 3,
     "metadata": {},
     "output_type": "execute_result"
    }
   ],
   "source": [
    "upsample_nets"
   ]
  },
  {
   "cell_type": "code",
   "execution_count": 6,
   "metadata": {},
   "outputs": [],
   "source": [
    "sess = tf.Session()\n",
    "sess.run(tf.global_variables_initializer())\n",
    "a = sess.run(out_nets)"
   ]
  },
  {
   "cell_type": "code",
   "execution_count": 9,
   "metadata": {},
   "outputs": [
    {
     "data": {
      "text/plain": [
       "(1, 8, 8, 512)"
      ]
     },
     "execution_count": 9,
     "metadata": {},
     "output_type": "execute_result"
    }
   ],
   "source": [
    "a[0].shape"
   ]
  },
  {
   "cell_type": "code",
   "execution_count": 3,
   "metadata": {},
   "outputs": [
    {
     "data": {
      "text/plain": [
       "256.0"
      ]
     },
     "execution_count": 3,
     "metadata": {},
     "output_type": "execute_result"
    }
   ],
   "source": [
    "512/2"
   ]
  },
  {
   "cell_type": "code",
   "execution_count": 3,
   "metadata": {},
   "outputs": [
    {
     "data": {
      "text/plain": [
       "[<tf.Tensor 'reg1_major3_conv/LeakyRelu:0' shape=(1, 8, 8, 94) dtype=float32>,\n",
       " <tf.Tensor 'reg2_major3_conv/LeakyRelu:0' shape=(1, 16, 16, 94) dtype=float32>,\n",
       " <tf.Tensor 'reg3_major3_conv/LeakyRelu:0' shape=(1, 32, 32, 94) dtype=float32>]"
      ]
     },
     "execution_count": 3,
     "metadata": {},
     "output_type": "execute_result"
    }
   ],
   "source": [
    "reg"
   ]
  },
  {
   "cell_type": "code",
   "execution_count": 4,
   "metadata": {},
   "outputs": [
    {
     "data": {
      "text/plain": [
       "[<tf.Tensor 'reg1_mask/LeakyRelu:0' shape=(1, 32, 32, 64) dtype=float32>,\n",
       " <tf.Tensor 'reg2_mask/LeakyRelu:0' shape=(1, 16, 16, 256) dtype=float32>,\n",
       " <tf.Tensor 'reg3_mask/LeakyRelu:0' shape=(1, 8, 8, 1024) dtype=float32>]"
      ]
     },
     "execution_count": 4,
     "metadata": {},
     "output_type": "execute_result"
    }
   ],
   "source": [
    "mask"
   ]
  },
  {
   "cell_type": "code",
   "execution_count": 5,
   "metadata": {},
   "outputs": [
    {
     "name": "stdout",
     "output_type": "stream",
     "text": [
      "(4896, 6528, 3)\n"
     ]
    },
    {
     "data": {
      "text/plain": [
       "True"
      ]
     },
     "execution_count": 5,
     "metadata": {},
     "output_type": "execute_result"
    }
   ],
   "source": [
    "import cv2\n",
    "\n",
    "pic = cv2.imread(\"demo/pic1.jpg\")\n",
    "print(pic.shape)\n",
    "pic =cv2.resize(pic, (256,256))\n",
    "cv2.imwrite(\"demo/pic1_small.jpg\",pic)"
   ]
  },
  {
   "cell_type": "code",
   "execution_count": 10,
   "metadata": {},
   "outputs": [
    {
     "data": {
      "text/plain": [
       "True"
      ]
     },
     "execution_count": 10,
     "metadata": {},
     "output_type": "execute_result"
    }
   ],
   "source": [
    "pic = cv2.imread(\"demo/pic1_small.jpg\")\n",
    "pic = cv2.resize(pic, (6528, 4896), interpolation=cv2.INTER_CUBIC)\n",
    "cv2.imwrite(\"demo/pic1_big.jpg\", pic)"
   ]
  },
  {
   "cell_type": "code",
   "execution_count": 15,
   "metadata": {},
   "outputs": [
    {
     "name": "stdout",
     "output_type": "stream",
     "text": [
      "(2, 3)\n",
      "[[1]\n",
      " [4]]\n",
      "[[2 3]\n",
      " [5 6]]\n"
     ]
    }
   ],
   "source": [
    "import tensorflow as tf\n",
    "value = [[1,2,3],[4,5,6]]\n",
    "value = np.array(value)\n",
    "print(value.shape)\n",
    "split0, split1 = tf.split(value, [1, 2], -1)\n",
    "with tf.Session() as sess:\n",
    "    print(sess.run(split0))\n",
    "    print(sess.run(split1))"
   ]
  },
  {
   "cell_type": "code",
   "execution_count": null,
   "metadata": {},
   "outputs": [],
   "source": []
  }
 ],
 "metadata": {
  "kernelspec": {
   "display_name": "Python 3",
   "language": "python",
   "name": "python3"
  },
  "language_info": {
   "codemirror_mode": {
    "name": "ipython",
    "version": 3
   },
   "file_extension": ".py",
   "mimetype": "text/x-python",
   "name": "python",
   "nbconvert_exporter": "python",
   "pygments_lexer": "ipython3",
   "version": "3.6.7"
  }
 },
 "nbformat": 4,
 "nbformat_minor": 2
}
