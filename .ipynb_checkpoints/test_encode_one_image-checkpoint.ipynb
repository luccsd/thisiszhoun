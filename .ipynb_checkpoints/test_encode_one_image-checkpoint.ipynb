{
 "cells": [
  {
   "cell_type": "code",
   "execution_count": 1,
   "metadata": {},
   "outputs": [
    {
     "name": "stdout",
     "output_type": "stream",
     "text": [
      "creating index...\n",
      "find 3460 crowd things\n",
      "index created!\n"
     ]
    }
   ],
   "source": [
    "# generate test data\n",
    "from datatool.coco import Coco\n",
    "\n",
    "\n",
    "annotation_file = \"/Users/thisiszhou/Documents/dataset/\" + \\\n",
    "                    \"coco/annotations/instances_val2014.json\"\n",
    "photo_folder = \"/Users/thisiszhou/Documents/dataset/coco/val2014\"\n",
    "cocodata = Coco(annotation_file, photo_folder)\n",
    "cocodata.create_index()"
   ]
  },
  {
   "cell_type": "code",
   "execution_count": 3,
   "metadata": {},
   "outputs": [
    {
     "name": "stdout",
     "output_type": "stream",
     "text": [
      "img_id: 393225\n"
     ]
    }
   ],
   "source": [
    "img, boxes, masks, obj_nums = cocodata.get_batch(1)"
   ]
  },
  {
   "cell_type": "code",
   "execution_count": 4,
   "metadata": {
    "scrolled": true
   },
   "outputs": [
    {
     "name": "stdout",
     "output_type": "stream",
     "text": [
      "the 0st box: x:0.7200000286102295, y:0.0, w:329.6549987792969, h:472.1158752441406\n",
      "the 1st box: x:159.62249755859375, y:214.36260986328125, w:84.02249908447266, h:106.4859848022461\n",
      "the 2st box: x:76.21499633789062, y:295.1551513671875, w:82.51499938964844, h:75.71215057373047\n",
      "the 3st box: x:164.94000244140625, y:317.69720458984375, w:45.3224983215332, h:30.953271865844727\n",
      "the 4st box: x:374.2349853515625, y:132.0560760498047, w:105.76499938964844, h:155.97756958007812\n"
     ]
    }
   ],
   "source": [
    "cocodata.show_one_image_info(boxes, masks)"
   ]
  },
  {
   "cell_type": "code",
   "execution_count": 5,
   "metadata": {},
   "outputs": [],
   "source": [
    "# test encode one image\n",
    "import numpy as np\n",
    "import cv2\n",
    "\n",
    "prior_boxes = [(480,480),(0,0),(0,0),(0,0),(0,0),(0,0),(0,0),(0,0),(0,0)]\n",
    "prior_boxes = np.array(prior_boxes,dtype=np.float32)\n",
    "sampled = 32\n",
    "classes = 80\n",
    "image_size = 480\n",
    "size1 = 15\n",
    "size2 = 30\n",
    "size3 = 60\n",
    "reg1_pre = np.zeros([size1, size1, classes + 14], dtype=np.float32)\n",
    "reg1_pre[7,5] = np.array([0.        , 0.        , 0.1733594 , 0.37681055, 0.        ,\n",
    "       0.        , 0.        , 0.        , 0.        , 0.        ,\n",
    "       0.        , 0.        , 0.        , 0.        , 0.        ,\n",
    "       0.        , 0.        , 0.        , 0.        , 0.        ,\n",
    "       0.        , 0.        , 0.        , 0.        , 0.        ,\n",
    "       0.        , 0.        , 0.        , 0.        , 0.        ,\n",
    "       0.        , 0.        , 0.        , 0.        , 0.        ,\n",
    "       0.        , 0.        , 0.        , 0.        , 0.        ,\n",
    "       0.        , 0.        , 0.        , 0.        , 0.        ,\n",
    "       0.        , 0.        , 0.        , 0.        , 0.        ,\n",
    "       0.        , 0.        , 0.        , 0.        , 0.        ,\n",
    "       0.        , 0.        , 0.        , 1.        , 0.        ,\n",
    "       0.        , 0.        , 0.        , 0.        , 0.        ,\n",
    "       0.        , 0.        , 0.        , 0.        , 0.        ,\n",
    "       0.        , 0.        , 0.        , 0.        , 0.        ,\n",
    "       0.        , 0.        , 0.        , 0.        , 0.        ,\n",
    "       0.        , 0.        , 0.        , 0.        , 0.        ,\n",
    " #      0.        , 0.        , 0.        , 0.6867812 , 0.98357475,\n",
    "       0.        , 0.        , 0.        , 0.5867812 , 0.88357475,\n",
    "       0.        , 0.        , 0.        , 0.        ], dtype=np.float32)\n",
    "reg1_pre[8,6]=np.array([0.        , 0.        , 0.30105448, 0.3626747 , 0.        ,\n",
    "       0.        , 0.        , 0.        , 0.        , 0.        ,\n",
    "       0.        , 0.        , 0.        , 0.        , 0.        ,\n",
    "       0.        , 0.        , 0.        , 0.        , 0.        ,\n",
    "       0.        , 0.        , 0.        , 0.        , 0.        ,\n",
    "       0.        , 0.        , 0.        , 0.        , 0.        ,\n",
    "       0.        , 0.        , 0.        , 0.        , 0.        ,\n",
    "       0.        , 0.        , 0.        , 0.        , 0.        ,\n",
    "       0.        , 0.        , 0.        , 0.        , 0.        ,\n",
    "       0.        , 0.        , 0.        , 0.        , 0.        ,\n",
    "       0.        , 0.        , 0.        , 0.        , 0.        ,\n",
    "       0.        , 0.        , 0.        , 0.        , 1.        ,\n",
    "       0.        , 0.        , 0.        , 0.        , 0.        ,\n",
    "       0.        , 0.        , 0.        , 0.        , 0.        ,\n",
    "       0.        , 0.        , 0.        , 0.        , 0.        ,\n",
    "       0.        , 0.        , 0.        , 0.        , 0.        ,\n",
    "       0.        , 0.        , 0.        , 0.        , 0.        ,\n",
    "       0.        , 0.        , 0.        , 0.17504688, 0.2218458 ,\n",
    "       0.        , 0.        , 0.        , 0.        ], dtype=np.float32)\n",
    "reg2_pre = np.zeros([size2, size2, classes + 14], dtype=np.float32)\n",
    "reg3_pre = np.zeros([size3, size3, classes + 14], dtype=np.float32)\n",
    "reg_pre_list = [reg1_pre, reg2_pre, reg3_pre]\n",
    "\n",
    "mask1_pre = np.zeros([size3, size3, size1 * size1])\n",
    "mask1_pre[:,:,7*size1+5] = cv2.imread(\"mask_label_reg.jpg\")\n",
    "\n",
    "mask2_pre = np.zeros([size2, size2, size2 * size2])\n",
    "mask3_pre = np.zeros([size1, size1, size3 * size3])\n",
    "mask_pre_list = [mask1_pre, mask2_pre, mask3_pre]"
   ]
  },
  {
   "cell_type": "code",
   "execution_count": 16,
   "metadata": {},
   "outputs": [
    {
     "name": "stdout",
     "output_type": "stream",
     "text": [
      "0 prior_box_index: 0\n",
      "fp box: 0 0\n",
      "ratio: 32.0\n",
      "x,y: 5 7\n",
      "boxes outside pre: [24.720016479492188, 24.0, 281.65497, 424.11588]\n",
      "box_label: [  0.72      0.      329.655   472.11588]\n",
      "box_pre: [24.720016479492188, 24.0, 281.65497, 424.11588]\n",
      "pre_by1, pre_by2: 0 425\n",
      "pre_bx1, pre_bx2: 0 282\n",
      "label_y1, label_y2: 24 449\n",
      "label_x1, label_x2: 24 306\n",
      "mask_label_in_pre_box: [[0. 1. 1. ... 0. 0. 0.]\n",
      " [1. 1. 1. ... 0. 0. 0.]\n",
      " [1. 1. 1. ... 0. 0. 0.]\n",
      " ...\n",
      " [0. 0. 0. ... 0. 0. 0.]\n",
      " [0. 0. 0. ... 0. 0. 0.]\n",
      " [0. 0. 0. ... 0. 0. 0.]]\n",
      "box_label x: 165.5475\n",
      "grid_x * ratio: 160.0\n",
      "1 prior_box_index: 0\n",
      "fp box: 0 0\n",
      "ratio: 32.0\n",
      "x,y: 6 8\n",
      "boxes outside pre: [159.62249374389648, 214.36259841918945, 84.0225, 106.485985]\n",
      "box_label: [159.6225   214.36261   84.0225   106.485985]\n",
      "box_pre: [159.62249374389648, 214.36259841918945, 84.0225, 106.485985]\n",
      "pre_by1, pre_by2: 0 107\n",
      "pre_bx1, pre_bx2: 0 85\n",
      "label_y1, label_y2: 214 321\n",
      "label_x1, label_x2: 159 244\n",
      "mask_label_in_pre_box: [[0. 0. 0. ... 0. 0. 0.]\n",
      " [0. 0. 0. ... 0. 0. 0.]\n",
      " [0. 0. 0. ... 0. 0. 0.]\n",
      " ...\n",
      " [0. 0. 0. ... 0. 0. 0.]\n",
      " [0. 0. 0. ... 0. 0. 0.]\n",
      " [0. 0. 0. ... 0. 0. 0.]]\n",
      "box_label x: 201.63374\n",
      "grid_x * ratio: 192.0\n",
      "2 prior_box_index: 0\n",
      "fp box: 0 0\n",
      "ratio: 32.0\n",
      "x,y: 3 10\n",
      "boxes outside pre: [96.0, 320.0, 0.0, 0.0]\n",
      "box_label: [ 76.215   295.15515  82.515    75.71215]\n",
      "box_pre: [96.0, 320.0, 0.0, 0.0]\n",
      "box_label x: 117.472496\n",
      "grid_x * ratio: 96.0\n",
      "3 prior_box_index: 0\n",
      "fp box: 0 0\n",
      "ratio: 32.0\n",
      "x,y: 5 10\n",
      "boxes outside pre: [160.0, 320.0, 0.0, 0.0]\n",
      "box_label: [164.94     317.6972    45.3225    30.953272]\n",
      "box_pre: [160.0, 320.0, 0.0, 0.0]\n",
      "box_label x: 187.60126\n",
      "grid_x * ratio: 160.0\n",
      "4 prior_box_index: 0\n",
      "fp box: 0 0\n",
      "ratio: 32.0\n",
      "x,y: 13 6\n",
      "boxes outside pre: [416.0, 192.0, 0.0, 0.0]\n",
      "box_label: [374.235   132.05608 105.765   155.97757]\n",
      "box_pre: [416.0, 192.0, 0.0, 0.0]\n",
      "box_label x: 427.1175\n",
      "grid_x * ratio: 416.0\n"
     ]
    }
   ],
   "source": [
    "# test encode_one_image\n",
    "from model.mask_yolo import encode_one_image\n",
    "regs_label_list, masks_label_list = encode_one_image(boxes, masks, reg_pre_list, mask_pre_list, \n",
    "                                                   image_size, sampled, classes, prior_boxes)   "
   ]
  },
  {
   "cell_type": "code",
   "execution_count": 17,
   "metadata": {},
   "outputs": [
    {
     "data": {
      "text/plain": [
       "array([0.7675271 , 1.        , 0.1733594 , 0.37681055, 0.        ,\n",
       "       0.        , 0.        , 0.        , 0.        , 0.        ,\n",
       "       0.        , 0.        , 0.        , 0.        , 0.        ,\n",
       "       0.        , 0.        , 0.        , 0.        , 0.        ,\n",
       "       0.        , 0.        , 0.        , 0.        , 0.        ,\n",
       "       0.        , 0.        , 0.        , 0.        , 0.        ,\n",
       "       0.        , 0.        , 0.        , 0.        , 0.        ,\n",
       "       0.        , 0.        , 0.        , 0.        , 0.        ,\n",
       "       0.        , 0.        , 0.        , 0.        , 0.        ,\n",
       "       0.        , 0.        , 0.        , 0.        , 0.        ,\n",
       "       0.        , 0.        , 0.        , 1.        , 0.        ,\n",
       "       0.        , 0.        , 0.        , 0.        , 0.        ,\n",
       "       0.        , 0.        , 0.        , 0.        , 0.        ,\n",
       "       0.        , 0.        , 0.        , 0.        , 0.        ,\n",
       "       0.        , 0.        , 0.        , 0.        , 0.        ,\n",
       "       0.        , 0.        , 0.        , 0.        , 0.        ,\n",
       "       0.        , 0.        , 0.        , 0.        , 0.        ,\n",
       "       0.        , 0.        , 0.        , 0.6867812 , 0.98357475,\n",
       "       0.        , 0.        , 0.        , 0.        ], dtype=float32)"
      ]
     },
     "execution_count": 17,
     "metadata": {},
     "output_type": "execute_result"
    }
   ],
   "source": [
    "reg_label_list[0][7,5]"
   ]
  },
  {
   "cell_type": "code",
   "execution_count": 18,
   "metadata": {},
   "outputs": [
    {
     "data": {
      "text/plain": [
       "array([0.9999996 , 0.        , 0.30105448, 0.3626747 , 0.        ,\n",
       "       0.        , 0.        , 0.        , 0.        , 0.        ,\n",
       "       0.        , 0.        , 0.        , 0.        , 0.        ,\n",
       "       0.        , 0.        , 0.        , 0.        , 0.        ,\n",
       "       0.        , 0.        , 0.        , 0.        , 0.        ,\n",
       "       0.        , 0.        , 0.        , 0.        , 0.        ,\n",
       "       0.        , 0.        , 0.        , 0.        , 0.        ,\n",
       "       0.        , 0.        , 0.        , 0.        , 0.        ,\n",
       "       0.        , 0.        , 0.        , 0.        , 0.        ,\n",
       "       0.        , 0.        , 0.        , 0.        , 0.        ,\n",
       "       0.        , 0.        , 0.        , 0.        , 0.        ,\n",
       "       0.        , 0.        , 0.        , 0.        , 1.        ,\n",
       "       0.        , 0.        , 0.        , 0.        , 0.        ,\n",
       "       0.        , 0.        , 0.        , 0.        , 0.        ,\n",
       "       0.        , 0.        , 0.        , 0.        , 0.        ,\n",
       "       0.        , 0.        , 0.        , 0.        , 0.        ,\n",
       "       0.        , 0.        , 0.        , 0.        , 0.        ,\n",
       "       0.        , 0.        , 0.        , 0.17504688, 0.2218458 ,\n",
       "       0.        , 0.        , 0.        , 0.        ], dtype=float32)"
      ]
     },
     "execution_count": 18,
     "metadata": {},
     "output_type": "execute_result"
    }
   ],
   "source": [
    "reg_label_list[0][8,6]"
   ]
  },
  {
   "cell_type": "code",
   "execution_count": 19,
   "metadata": {},
   "outputs": [
    {
     "data": {
      "text/plain": [
       "True"
      ]
     },
     "execution_count": 19,
     "metadata": {},
     "output_type": "execute_result"
    }
   ],
   "source": [
    "import cv2\n",
    "cv2.imwrite(\"test_data/mask_label_reg.jpg\",mask_label_list[0][:,:,8*15+6]*255)"
   ]
  },
  {
   "cell_type": "code",
   "execution_count": 15,
   "metadata": {},
   "outputs": [
    {
     "data": {
      "text/plain": [
       "(3, 5)"
      ]
     },
     "execution_count": 15,
     "metadata": {},
     "output_type": "execute_result"
    }
   ],
   "source": [
    "'bbox': [0.96, 0.0, 439.54, 420.97]\n",
    "    [212.83, 191.14, 112.03, 94.95]\n",
    "    [101.62, 263.18, 110.02, 67.51]\n",
    "    [219.92, 283.28, 60.43, 27.6]\n",
    "    [498.98, 117.75, 141.02, 139.08]\n",
    "    640 428"
   ]
  },
  {
   "cell_type": "code",
   "execution_count": null,
   "metadata": {},
   "outputs": [],
   "source": []
  },
  {
   "cell_type": "code",
   "execution_count": 10,
   "metadata": {},
   "outputs": [
    {
     "data": {
      "text/plain": [
       "0.75"
      ]
     },
     "execution_count": 10,
     "metadata": {},
     "output_type": "execute_result"
    }
   ],
   "source": [
    "480/640"
   ]
  },
  {
   "cell_type": "code",
   "execution_count": 12,
   "metadata": {},
   "outputs": [
    {
     "data": {
      "text/plain": [
       "1.1214953271028036"
      ]
     },
     "execution_count": 12,
     "metadata": {},
     "output_type": "execute_result"
    }
   ],
   "source": [
    "480/428"
   ]
  },
  {
   "cell_type": "code",
   "execution_count": 13,
   "metadata": {},
   "outputs": [
    {
     "data": {
      "text/plain": [
       "0.72"
      ]
     },
     "execution_count": 13,
     "metadata": {},
     "output_type": "execute_result"
    }
   ],
   "source": [
    "0.96*0.75"
   ]
  },
  {
   "cell_type": "code",
   "execution_count": null,
   "metadata": {},
   "outputs": [],
   "source": []
  },
  {
   "cell_type": "code",
   "execution_count": null,
   "metadata": {},
   "outputs": [],
   "source": []
  },
  {
   "cell_type": "code",
   "execution_count": 1,
   "metadata": {},
   "outputs": [],
   "source": [
    "# test polygon2mask2\n",
    "import cv2\n",
    "import numpy as np\n",
    "\n",
    "mask = np.zeros([10,10])\n",
    "polygon = [1,1,5,3,9,1,9,9,1,9]\n",
    "polygon = np.array(polygon, dtype=np.int)\n",
    "polygon = polygon.reshape(-1,2)\n",
    "polygon1 = [1,1,12,1,5,8]\n",
    "polygon1 = np.array(polygon1, dtype=np.int)\n",
    "polygon1 = polygon1.reshape(-1,2)"
   ]
  },
  {
   "cell_type": "code",
   "execution_count": 19,
   "metadata": {},
   "outputs": [
    {
     "data": {
      "text/plain": [
       "array([[0., 0., 0., 0., 0., 0., 0., 0., 0., 0.],\n",
       "       [0., 1., 1., 0., 0., 0., 0., 0., 0., 1.],\n",
       "       [0., 1., 1., 1., 1., 0., 0., 1., 1., 1.],\n",
       "       [0., 1., 1., 1., 1., 1., 1., 1., 1., 1.],\n",
       "       [0., 1., 1., 1., 1., 1., 1., 1., 1., 1.],\n",
       "       [0., 1., 1., 1., 1., 1., 1., 1., 1., 1.],\n",
       "       [0., 1., 1., 1., 1., 1., 1., 1., 1., 1.],\n",
       "       [0., 1., 1., 1., 1., 1., 1., 1., 1., 1.],\n",
       "       [0., 1., 1., 1., 1., 1., 1., 1., 1., 1.],\n",
       "       [0., 1., 1., 1., 1., 1., 1., 1., 1., 1.]])"
      ]
     },
     "execution_count": 19,
     "metadata": {},
     "output_type": "execute_result"
    }
   ],
   "source": [
    "cv2.fillPoly(mask, [polygon], color=1)"
   ]
  },
  {
   "cell_type": "code",
   "execution_count": 1,
   "metadata": {},
   "outputs": [
    {
     "name": "stdout",
     "output_type": "stream",
     "text": [
      "creating index...\n",
      "find 3460 crowd things\n",
      "index created!\n"
     ]
    }
   ],
   "source": [
    "# test label_encode_for_yolo\n",
    "from datatool.coco import Coco\n",
    "\n",
    "\n",
    "annotation_file = \"/Users/thisiszhou/Documents/dataset/\" + \\\n",
    "                    \"coco/annotations/instances_val2014.json\"\n",
    "photo_folder = \"/Users/thisiszhou/Documents/dataset/coco/val2014\"\n",
    "cocodata = Coco(annotation_file, photo_folder)\n",
    "cocodata.create_index()"
   ]
  },
  {
   "cell_type": "code",
   "execution_count": 3,
   "metadata": {},
   "outputs": [
    {
     "name": "stdout",
     "output_type": "stream",
     "text": [
      "img_id: 393225\n",
      "the 0st box: x:0.7200000286102295, y:0.0, w:329.6549987792969, h:472.1158752441406\n",
      "the 1st box: x:159.62249755859375, y:214.36260986328125, w:84.02249908447266, h:106.4859848022461\n",
      "the 2st box: x:76.21499633789062, y:295.1551513671875, w:82.51499938964844, h:75.71215057373047\n",
      "the 3st box: x:164.94000244140625, y:317.69720458984375, w:45.3224983215332, h:30.953271865844727\n",
      "the 4st box: x:374.2349853515625, y:132.0560760498047, w:105.76499938964844, h:155.97756958007812\n"
     ]
    }
   ],
   "source": [
    "img, boxes, masks, obj_nums = cocodata.get_batch(1)\n",
    "cocodata.show_one_image_info(boxes, masks)"
   ]
  },
  {
   "cell_type": "code",
   "execution_count": 6,
   "metadata": {},
   "outputs": [],
   "source": [
    "import numpy as np\n",
    "import cv2\n",
    "\n",
    "sampled = 32\n",
    "classes = 80\n",
    "image_size = 480\n",
    "size1 = 15\n",
    "size2 = 30\n",
    "size3 = 60\n",
    "reg1_pre = np.zeros([1, size1, size1, classes + 14], dtype=np.float32)\n",
    "reg1_pre[0][7,5] = np.array([0.        , 0.        , 0.1733594 , 0.37681055, 0.        ,\n",
    "       0.        , 0.        , 0.        , 0.        , 0.        ,\n",
    "       0.        , 0.        , 0.        , 0.        , 0.        ,\n",
    "       0.        , 0.        , 0.        , 0.        , 0.        ,\n",
    "       0.        , 0.        , 0.        , 0.        , 0.        ,\n",
    "       0.        , 0.        , 0.        , 0.        , 0.        ,\n",
    "       0.        , 0.        , 0.        , 0.        , 0.        ,\n",
    "       0.        , 0.        , 0.        , 0.        , 0.        ,\n",
    "       0.        , 0.        , 0.        , 0.        , 0.        ,\n",
    "       0.        , 0.        , 0.        , 0.        , 0.        ,\n",
    "       0.        , 0.        , 0.        , 0.        , 0.        ,\n",
    "       0.        , 0.        , 0.        , 1.        , 0.        ,\n",
    "       0.        , 0.        , 0.        , 0.        , 0.        ,\n",
    "       0.        , 0.        , 0.        , 0.        , 0.        ,\n",
    "       0.        , 0.        , 0.        , 0.        , 0.        ,\n",
    "       0.        , 0.        , 0.        , 0.        , 0.        ,\n",
    "       0.        , 0.        , 0.        , 0.        , 0.        ,\n",
    " #      0.        , 0.        , 0.        , 0.6867812 , 0.98357475,\n",
    "       0.        , 0.        , 0.        , 0.5867812 , 0.88357475,\n",
    "       0.        , 0.        , 0.        , 0.        ], dtype=np.float32)\n",
    "reg1_pre[0][8,6]=np.array([0.        , 0.        , 0.30105448, 0.3626747 , 0.        ,\n",
    "       0.        , 0.        , 0.        , 0.        , 0.        ,\n",
    "       0.        , 0.        , 0.        , 0.        , 0.        ,\n",
    "       0.        , 0.        , 0.        , 0.        , 0.        ,\n",
    "       0.        , 0.        , 0.        , 0.        , 0.        ,\n",
    "       0.        , 0.        , 0.        , 0.        , 0.        ,\n",
    "       0.        , 0.        , 0.        , 0.        , 0.        ,\n",
    "       0.        , 0.        , 0.        , 0.        , 0.        ,\n",
    "       0.        , 0.        , 0.        , 0.        , 0.        ,\n",
    "       0.        , 0.        , 0.        , 0.        , 0.        ,\n",
    "       0.        , 0.        , 0.        , 0.        , 0.        ,\n",
    "       0.        , 0.        , 0.        , 0.        , 1.        ,\n",
    "       0.        , 0.        , 0.        , 0.        , 0.        ,\n",
    "       0.        , 0.        , 0.        , 0.        , 0.        ,\n",
    "       0.        , 0.        , 0.        , 0.        , 0.        ,\n",
    "       0.        , 0.        , 0.        , 0.        , 0.        ,\n",
    "       0.        , 0.        , 0.        , 0.        , 0.        ,\n",
    "       0.        , 0.        , 0.        , 0.17504688, 0.2218458 ,\n",
    "       0.        , 0.        , 0.        , 0.        ], dtype=np.float32)\n",
    "reg2_pre = np.zeros([1,size2, size2, classes + 14], dtype=np.float32)\n",
    "reg3_pre = np.zeros([1,size3, size3, classes + 14], dtype=np.float32)\n",
    "regs_pre_list = [reg1_pre, reg2_pre, reg3_pre]\n",
    "\n",
    "mask1_pre = np.zeros([1, size1 * size1,size3, size3])\n",
    "mask1_pre[0][7*size1+5] = cv2.imread(\"mask_label_reg.jpg\")\n",
    "\n",
    "mask2_pre = np.zeros([1, size2, size2, size2 * size2])\n",
    "mask3_pre = np.zeros([1, size1, size1, size3 * size3])\n",
    "masks_pre_list = [mask1_pre, mask2_pre, mask3_pre]"
   ]
  },
  {
   "cell_type": "code",
   "execution_count": 7,
   "metadata": {},
   "outputs": [
    {
     "name": "stdout",
     "output_type": "stream",
     "text": [
      "0 prior_box_index: 0\n",
      "fp box: 0 0\n",
      "ratio: 32.0\n",
      "x,y: 5 7\n",
      "boxes outside pre: [24.720016479492188, 24.0, 281.65497, 424.11588]\n",
      "box_label: [  0.72      0.      329.655   472.11588]\n",
      "box_pre: [24.720016479492188, 24.0, 281.65497, 424.11588]\n",
      "pre_by1, pre_by2: 0 425\n",
      "pre_bx1, pre_bx2: 0 282\n",
      "label_y1, label_y2: 24 449\n",
      "label_x1, label_x2: 24 306\n",
      "mask_label_in_pre_box: [[0. 1. 1. ... 0. 0. 0.]\n",
      " [1. 1. 1. ... 0. 0. 0.]\n",
      " [1. 1. 1. ... 0. 0. 0.]\n",
      " ...\n",
      " [0. 0. 0. ... 0. 0. 0.]\n",
      " [0. 0. 0. ... 0. 0. 0.]\n",
      " [0. 0. 0. ... 0. 0. 0.]]\n",
      "1 prior_box_index: 0\n",
      "fp box: 0 0\n",
      "ratio: 32.0\n",
      "x,y: 6 8\n",
      "boxes outside pre: [159.62249374389648, 214.36259841918945, 84.0225, 106.485985]\n",
      "box_label: [159.6225   214.36261   84.0225   106.485985]\n",
      "box_pre: [159.62249374389648, 214.36259841918945, 84.0225, 106.485985]\n",
      "pre_by1, pre_by2: 0 107\n",
      "pre_bx1, pre_bx2: 0 85\n",
      "label_y1, label_y2: 214 321\n",
      "label_x1, label_x2: 159 244\n",
      "mask_label_in_pre_box: [[0. 0. 0. ... 0. 0. 0.]\n",
      " [0. 0. 0. ... 0. 0. 0.]\n",
      " [0. 0. 0. ... 0. 0. 0.]\n",
      " ...\n",
      " [0. 0. 0. ... 0. 0. 0.]\n",
      " [0. 0. 0. ... 0. 0. 0.]\n",
      " [0. 0. 0. ... 0. 0. 0.]]\n",
      "2 prior_box_index: 0\n",
      "fp box: 0 0\n",
      "ratio: 32.0\n",
      "x,y: 3 10\n",
      "boxes outside pre: [96.0, 320.0, 0.0, 0.0]\n",
      "box_label: [ 76.215   295.15515  82.515    75.71215]\n",
      "box_pre: [96.0, 320.0, 0.0, 0.0]\n",
      "3 prior_box_index: 0\n",
      "fp box: 0 0\n",
      "ratio: 32.0\n",
      "x,y: 5 10\n",
      "boxes outside pre: [160.0, 320.0, 0.0, 0.0]\n",
      "box_label: [164.94     317.6972    45.3225    30.953272]\n",
      "box_pre: [160.0, 320.0, 0.0, 0.0]\n",
      "4 prior_box_index: 0\n",
      "fp box: 0 0\n",
      "ratio: 32.0\n",
      "x,y: 13 6\n",
      "boxes outside pre: [416.0, 192.0, 0.0, 0.0]\n",
      "box_label: [374.235   132.05608 105.765   155.97757]\n",
      "box_pre: [416.0, 192.0, 0.0, 0.0]\n"
     ]
    },
    {
     "name": "stderr",
     "output_type": "stream",
     "text": [
      "/Users/thisiszhou/Desktop/code/MaskYolo/model/mask_yolo.py:266: RuntimeWarning: invalid value encountered in greater_equal\n",
      "  point_sum[mask1 >= 0.5] = 1\n",
      "/Users/thisiszhou/Desktop/code/MaskYolo/model/mask_yolo.py:268: RuntimeWarning: invalid value encountered in less\n",
      "  point_inter[mask1 < 0.5] = 0\n"
     ]
    }
   ],
   "source": [
    "from model.mask_yolo import label_encode_for_yolo\n",
    "\n",
    "boxes_label_encode, masks_label_encode, ojs_bool = label_encode_for_yolo(boxes, masks, \n",
    "                                                                         obj_nums,regs_pre_list, masks_pre_list)"
   ]
  },
  {
   "cell_type": "code",
   "execution_count": 6,
   "metadata": {},
   "outputs": [
    {
     "data": {
      "text/plain": [
       "array([0.7675271 , 1.        , 0.1733594 , 0.37681055, 0.        ,\n",
       "       0.        , 0.        , 0.        , 0.        , 0.        ,\n",
       "       0.        , 0.        , 0.        , 0.        , 0.        ,\n",
       "       0.        , 0.        , 0.        , 0.        , 0.        ,\n",
       "       0.        , 0.        , 0.        , 0.        , 0.        ,\n",
       "       0.        , 0.        , 0.        , 0.        , 0.        ,\n",
       "       0.        , 0.        , 0.        , 0.        , 0.        ,\n",
       "       0.        , 0.        , 0.        , 0.        , 0.        ,\n",
       "       0.        , 0.        , 0.        , 0.        , 0.        ,\n",
       "       0.        , 0.        , 0.        , 0.        , 0.        ,\n",
       "       0.        , 0.        , 0.        , 1.        , 0.        ,\n",
       "       0.        , 0.        , 0.        , 0.        , 0.        ,\n",
       "       0.        , 0.        , 0.        , 0.        , 0.        ,\n",
       "       0.        , 0.        , 0.        , 0.        , 0.        ,\n",
       "       0.        , 0.        , 0.        , 0.        , 0.        ,\n",
       "       0.        , 0.        , 0.        , 0.        , 0.        ,\n",
       "       0.        , 0.        , 0.        , 0.        , 0.        ,\n",
       "       0.        , 0.        , 0.        , 0.6867812 , 0.98357475,\n",
       "       0.        , 0.        , 0.        , 0.        ], dtype=float32)"
      ]
     },
     "execution_count": 6,
     "metadata": {},
     "output_type": "execute_result"
    }
   ],
   "source": [
    "regs_label_list[0][0][7,5]"
   ]
  },
  {
   "cell_type": "code",
   "execution_count": 8,
   "metadata": {},
   "outputs": [
    {
     "data": {
      "text/plain": [
       "True"
      ]
     },
     "execution_count": 8,
     "metadata": {},
     "output_type": "execute_result"
    }
   ],
   "source": [
    "import cv2\n",
    "cv2.imwrite(\"test_data/mask_label_reg.jpg\",masks_label_list[0][0][:,:,7*15+5]*255)"
   ]
  },
  {
   "cell_type": "code",
   "execution_count": 1,
   "metadata": {},
   "outputs": [
    {
     "name": "stderr",
     "output_type": "stream",
     "text": [
      "/Users/thisiszhou/.virtualenvs/learn/lib/python3.6/site-packages/tensorflow/python/framework/dtypes.py:526: FutureWarning: Passing (type, 1) or '1type' as a synonym of type is deprecated; in a future version of numpy, it will be understood as (type, (1,)) / '(1,)type'.\n",
      "  _np_qint8 = np.dtype([(\"qint8\", np.int8, 1)])\n",
      "/Users/thisiszhou/.virtualenvs/learn/lib/python3.6/site-packages/tensorflow/python/framework/dtypes.py:527: FutureWarning: Passing (type, 1) or '1type' as a synonym of type is deprecated; in a future version of numpy, it will be understood as (type, (1,)) / '(1,)type'.\n",
      "  _np_quint8 = np.dtype([(\"quint8\", np.uint8, 1)])\n",
      "/Users/thisiszhou/.virtualenvs/learn/lib/python3.6/site-packages/tensorflow/python/framework/dtypes.py:528: FutureWarning: Passing (type, 1) or '1type' as a synonym of type is deprecated; in a future version of numpy, it will be understood as (type, (1,)) / '(1,)type'.\n",
      "  _np_qint16 = np.dtype([(\"qint16\", np.int16, 1)])\n",
      "/Users/thisiszhou/.virtualenvs/learn/lib/python3.6/site-packages/tensorflow/python/framework/dtypes.py:529: FutureWarning: Passing (type, 1) or '1type' as a synonym of type is deprecated; in a future version of numpy, it will be understood as (type, (1,)) / '(1,)type'.\n",
      "  _np_quint16 = np.dtype([(\"quint16\", np.uint16, 1)])\n",
      "/Users/thisiszhou/.virtualenvs/learn/lib/python3.6/site-packages/tensorflow/python/framework/dtypes.py:530: FutureWarning: Passing (type, 1) or '1type' as a synonym of type is deprecated; in a future version of numpy, it will be understood as (type, (1,)) / '(1,)type'.\n",
      "  _np_qint32 = np.dtype([(\"qint32\", np.int32, 1)])\n",
      "/Users/thisiszhou/.virtualenvs/learn/lib/python3.6/site-packages/tensorflow/python/framework/dtypes.py:535: FutureWarning: Passing (type, 1) or '1type' as a synonym of type is deprecated; in a future version of numpy, it will be understood as (type, (1,)) / '(1,)type'.\n",
      "  np_resource = np.dtype([(\"resource\", np.ubyte, 1)])\n"
     ]
    },
    {
     "name": "stdout",
     "output_type": "stream",
     "text": [
      "WARNING:tensorflow:From /Users/thisiszhou/.virtualenvs/learn/lib/python3.6/site-packages/tensorflow/python/framework/op_def_library.py:263: colocate_with (from tensorflow.python.framework.ops) is deprecated and will be removed in a future version.\n",
      "Instructions for updating:\n",
      "Colocations handled automatically by placer.\n"
     ]
    }
   ],
   "source": [
    "# experiment: tensorflow absolute location\n",
    "import tensorflow as tf\n",
    "import numpy as np\n",
    "\n",
    "picture = np.array([[1,2,3],\n",
    "                 [2,3,4]], dtype=np.float32)\n",
    "picture_tensor = tf.get_variable(\"pic\",initializer=picture,dtype=np.float32)\n",
    "\n",
    "mask = np.array([[1],[0]],dtype=np.float32)\n",
    "mask_tensor = tf.get_variable(\"weight\",initializer=mask,dtype=np.float32)\n",
    "#a = tf.multiply(a,c)"
   ]
  },
  {
   "cell_type": "code",
   "execution_count": 6,
   "metadata": {},
   "outputs": [
    {
     "data": {
      "text/plain": [
       "(2, 3)"
      ]
     },
     "execution_count": 6,
     "metadata": {},
     "output_type": "execute_result"
    }
   ],
   "source": [
    "picture.shape"
   ]
  },
  {
   "cell_type": "code",
   "execution_count": 7,
   "metadata": {},
   "outputs": [
    {
     "data": {
      "text/plain": [
       "(2, 1)"
      ]
     },
     "execution_count": 7,
     "metadata": {},
     "output_type": "execute_result"
    }
   ],
   "source": [
    "mask.shape"
   ]
  },
  {
   "cell_type": "code",
   "execution_count": 3,
   "metadata": {},
   "outputs": [],
   "source": [
    "final = picture_tensor*mask_tensor"
   ]
  },
  {
   "cell_type": "code",
   "execution_count": 5,
   "metadata": {},
   "outputs": [
    {
     "data": {
      "text/plain": [
       "array([[1., 2., 3.],\n",
       "       [0., 0., 0.]], dtype=float32)"
      ]
     },
     "execution_count": 5,
     "metadata": {},
     "output_type": "execute_result"
    }
   ],
   "source": [
    "sess = tf.Session()\n",
    "sess.run(tf.global_variables_initializer())\n",
    "sess.run(final)"
   ]
  },
  {
   "cell_type": "code",
   "execution_count": 5,
   "metadata": {},
   "outputs": [
    {
     "data": {
      "text/plain": [
       "array([[1, 0, 0],\n",
       "       [2, 0, 0],\n",
       "       [4, 0, 0]])"
      ]
     },
     "execution_count": 5,
     "metadata": {},
     "output_type": "execute_result"
    }
   ],
   "source": [
    "a = np.array([[1,2,3],\n",
    "              [2,3,4],\n",
    "              [4,5,6]])\n",
    "b = np.array([[1,1,1])\n",
    "b*a"
   ]
  },
  {
   "cell_type": "code",
   "execution_count": 8,
   "metadata": {},
   "outputs": [],
   "source": [
    "a = np.zeros([2,1],dtype=np.int)"
   ]
  },
  {
   "cell_type": "code",
   "execution_count": 15,
   "metadata": {},
   "outputs": [],
   "source": [
    "a[0][0]=b"
   ]
  },
  {
   "cell_type": "code",
   "execution_count": 17,
   "metadata": {},
   "outputs": [
    {
     "data": {
      "text/plain": [
       "numpy.int64"
      ]
     },
     "execution_count": 17,
     "metadata": {},
     "output_type": "execute_result"
    }
   ],
   "source": [
    "type(a[0][0])"
   ]
  },
  {
   "cell_type": "code",
   "execution_count": 13,
   "metadata": {},
   "outputs": [],
   "source": [
    "b=np.array(1, dtype=np.float64)"
   ]
  },
  {
   "cell_type": "code",
   "execution_count": 14,
   "metadata": {},
   "outputs": [
    {
     "data": {
      "text/plain": [
       "array(1.)"
      ]
     },
     "execution_count": 14,
     "metadata": {},
     "output_type": "execute_result"
    }
   ],
   "source": [
    "b"
   ]
  },
  {
   "cell_type": "code",
   "execution_count": 20,
   "metadata": {
    "scrolled": true
   },
   "outputs": [
    {
     "name": "stdout",
     "output_type": "stream",
     "text": [
      "[ 3.  5. 13.]\n",
      "2.0\n",
      "[[ 1.  2.  3.  4.  5.]\n",
      " [ 6.  7.  8.  9. 10.]]\n",
      "2.0\n"
     ]
    }
   ],
   "source": [
    "import tensorflow as tf\n",
    "import numpy as np\n",
    "\n",
    "\n",
    "a = tf.constant([[1, 2, 3, 4, 5],\n",
    "                 [6, 7, 8, 9, 10],\n",
    "                 [11, 12, 13, 14, 15]],dtype=np.float32)\n",
    "#b = tf.Variable([[5]],dtype=np.float32)\n",
    "b = np.array([[5]],dtype=np.float32)\n",
    "c = a*b\n",
    "index_a1 = tf.Variable([[0, 2], [0, 4], [2, 2]])  # 随便选几个\n",
    "index_a2 = tf.Variable([0, 1])  # 0行1列的元素——2\n",
    "index_a3 = tf.Variable([[0], [1]])  # [第0行,第1行]\n",
    "index_a4 = tf.Variable([0])  # 第0行\n",
    "index_a5 = np.array([0])\n",
    "d = tf.gather_nd(a, index_a5)\n",
    "\n",
    "with tf.Session() as sess:\n",
    "    sess.run(tf.global_variables_initializer())\n",
    "    print(sess.run(tf.gather_nd(a, index_a1)))\n",
    "    print(sess.run(tf.gather_nd(a, index_a2)))\n",
    "    print(sess.run(tf.gather_nd(a, index_a3)))\n",
    "    print(sess.run(tf.gather_nd(a, [0,1])))\n",
    "    #print(sess.run(c))\n",
    "    #print(sess.run(a))\n",
    "    #print(sess.run(tf.gradients(d,[a])))\n"
   ]
  },
  {
   "cell_type": "code",
   "execution_count": 8,
   "metadata": {
    "scrolled": true
   },
   "outputs": [
    {
     "name": "stdout",
     "output_type": "stream",
     "text": [
      "[array([3., 3.], dtype=float32), array([1., 1.], dtype=float32)]\n"
     ]
    }
   ],
   "source": [
    "import tensorflow as tf\n",
    "\n",
    "a = tf.constant([8.,9.])\n",
    "b = 2 * a\n",
    "g = tf.gradients(a + b, [a, b])\n",
    "with tf.Session() as sess:\n",
    "    print(sess.run(g))"
   ]
  },
  {
   "cell_type": "code",
   "execution_count": 2,
   "metadata": {},
   "outputs": [
    {
     "name": "stdout",
     "output_type": "stream",
     "text": [
      "[3.0, 1.0]\n"
     ]
    }
   ],
   "source": [
    "a = tf.constant(0.)\n",
    "b = 2 * a\n",
    "g = tf.gradients(a + b, [a, b])\n",
    "with tf.Session() as sess:\n",
    "    print(sess.run(g))"
   ]
  },
  {
   "cell_type": "code",
   "execution_count": 52,
   "metadata": {},
   "outputs": [],
   "source": [
    "a = np.array([[]])"
   ]
  },
  {
   "cell_type": "code",
   "execution_count": 53,
   "metadata": {},
   "outputs": [
    {
     "data": {
      "text/plain": [
       "(1, 0)"
      ]
     },
     "execution_count": 53,
     "metadata": {},
     "output_type": "execute_result"
    }
   ],
   "source": [
    "a.shape"
   ]
  },
  {
   "cell_type": "code",
   "execution_count": 58,
   "metadata": {},
   "outputs": [
    {
     "ename": "ValueError",
     "evalue": "all the input array dimensions for the concatenation axis must match exactly, but along dimension 1, the array at index 0 has size 0 and the array at index 1 has size 3",
     "output_type": "error",
     "traceback": [
      "\u001b[0;31m---------------------------------------------------------------------------\u001b[0m",
      "\u001b[0;31mValueError\u001b[0m                                Traceback (most recent call last)",
      "\u001b[0;32m<ipython-input-58-a240693f0493>\u001b[0m in \u001b[0;36m<module>\u001b[0;34m\u001b[0m\n\u001b[0;32m----> 1\u001b[0;31m \u001b[0ma\u001b[0m\u001b[0;34m=\u001b[0m\u001b[0mnp\u001b[0m\u001b[0;34m.\u001b[0m\u001b[0mappend\u001b[0m\u001b[0;34m(\u001b[0m\u001b[0;34m[\u001b[0m\u001b[0;34m[\u001b[0m\u001b[0;34m]\u001b[0m\u001b[0;34m,\u001b[0m\u001b[0;34m[\u001b[0m\u001b[0;34m]\u001b[0m\u001b[0;34m,\u001b[0m\u001b[0;34m[\u001b[0m\u001b[0;34m]\u001b[0m\u001b[0;34m]\u001b[0m\u001b[0;34m,\u001b[0m\u001b[0;34m[\u001b[0m\u001b[0;34m[\u001b[0m\u001b[0;36m1\u001b[0m\u001b[0;34m,\u001b[0m\u001b[0;36m2\u001b[0m\u001b[0;34m,\u001b[0m\u001b[0;36m3\u001b[0m\u001b[0;34m]\u001b[0m\u001b[0;34m]\u001b[0m\u001b[0;34m,\u001b[0m\u001b[0maxis\u001b[0m\u001b[0;34m=\u001b[0m\u001b[0;36m0\u001b[0m\u001b[0;34m)\u001b[0m\u001b[0;34m\u001b[0m\u001b[0;34m\u001b[0m\u001b[0m\n\u001b[0m\u001b[1;32m      2\u001b[0m \u001b[0ma\u001b[0m\u001b[0;34m\u001b[0m\u001b[0;34m\u001b[0m\u001b[0m\n",
      "\u001b[0;32m<__array_function__ internals>\u001b[0m in \u001b[0;36mappend\u001b[0;34m(*args, **kwargs)\u001b[0m\n",
      "\u001b[0;32m~/.virtualenvs/learn/lib/python3.6/site-packages/numpy/lib/function_base.py\u001b[0m in \u001b[0;36mappend\u001b[0;34m(arr, values, axis)\u001b[0m\n\u001b[1;32m   4698\u001b[0m         \u001b[0mvalues\u001b[0m \u001b[0;34m=\u001b[0m \u001b[0mravel\u001b[0m\u001b[0;34m(\u001b[0m\u001b[0mvalues\u001b[0m\u001b[0;34m)\u001b[0m\u001b[0;34m\u001b[0m\u001b[0;34m\u001b[0m\u001b[0m\n\u001b[1;32m   4699\u001b[0m         \u001b[0maxis\u001b[0m \u001b[0;34m=\u001b[0m \u001b[0marr\u001b[0m\u001b[0;34m.\u001b[0m\u001b[0mndim\u001b[0m\u001b[0;34m-\u001b[0m\u001b[0;36m1\u001b[0m\u001b[0;34m\u001b[0m\u001b[0;34m\u001b[0m\u001b[0m\n\u001b[0;32m-> 4700\u001b[0;31m     \u001b[0;32mreturn\u001b[0m \u001b[0mconcatenate\u001b[0m\u001b[0;34m(\u001b[0m\u001b[0;34m(\u001b[0m\u001b[0marr\u001b[0m\u001b[0;34m,\u001b[0m \u001b[0mvalues\u001b[0m\u001b[0;34m)\u001b[0m\u001b[0;34m,\u001b[0m \u001b[0maxis\u001b[0m\u001b[0;34m=\u001b[0m\u001b[0maxis\u001b[0m\u001b[0;34m)\u001b[0m\u001b[0;34m\u001b[0m\u001b[0;34m\u001b[0m\u001b[0m\n\u001b[0m\u001b[1;32m   4701\u001b[0m \u001b[0;34m\u001b[0m\u001b[0m\n\u001b[1;32m   4702\u001b[0m \u001b[0;34m\u001b[0m\u001b[0m\n",
      "\u001b[0;32m<__array_function__ internals>\u001b[0m in \u001b[0;36mconcatenate\u001b[0;34m(*args, **kwargs)\u001b[0m\n",
      "\u001b[0;31mValueError\u001b[0m: all the input array dimensions for the concatenation axis must match exactly, but along dimension 1, the array at index 0 has size 0 and the array at index 1 has size 3"
     ]
    }
   ],
   "source": [
    "a=np.append([[],[],[]],[[1,2,3]],axis=0)\n",
    "a = np."
   ]
  },
  {
   "cell_type": "code",
   "execution_count": 50,
   "metadata": {},
   "outputs": [
    {
     "data": {
      "text/plain": [
       "(6,)"
      ]
     },
     "execution_count": 50,
     "metadata": {},
     "output_type": "execute_result"
    }
   ],
   "source": [
    "a.shape"
   ]
  },
  {
   "cell_type": "code",
   "execution_count": null,
   "metadata": {},
   "outputs": [],
   "source": []
  }
 ],
 "metadata": {
  "kernelspec": {
   "display_name": "Python 3",
   "language": "python",
   "name": "python3"
  },
  "language_info": {
   "codemirror_mode": {
    "name": "ipython",
    "version": 3
   },
   "file_extension": ".py",
   "mimetype": "text/x-python",
   "name": "python",
   "nbconvert_exporter": "python",
   "pygments_lexer": "ipython3",
   "version": "3.6.7"
  }
 },
 "nbformat": 4,
 "nbformat_minor": 2
}
