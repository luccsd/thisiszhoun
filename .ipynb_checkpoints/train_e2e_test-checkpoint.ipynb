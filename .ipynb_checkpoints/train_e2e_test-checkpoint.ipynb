{
 "cells": [
  {
   "cell_type": "code",
   "execution_count": 1,
   "metadata": {},
   "outputs": [
    {
     "name": "stderr",
     "output_type": "stream",
     "text": [
      "/Users/thisiszhou/.virtualenvs/learn/lib/python3.6/site-packages/tensorflow/python/framework/dtypes.py:526: FutureWarning: Passing (type, 1) or '1type' as a synonym of type is deprecated; in a future version of numpy, it will be understood as (type, (1,)) / '(1,)type'.\n",
      "  _np_qint8 = np.dtype([(\"qint8\", np.int8, 1)])\n",
      "/Users/thisiszhou/.virtualenvs/learn/lib/python3.6/site-packages/tensorflow/python/framework/dtypes.py:527: FutureWarning: Passing (type, 1) or '1type' as a synonym of type is deprecated; in a future version of numpy, it will be understood as (type, (1,)) / '(1,)type'.\n",
      "  _np_quint8 = np.dtype([(\"quint8\", np.uint8, 1)])\n",
      "/Users/thisiszhou/.virtualenvs/learn/lib/python3.6/site-packages/tensorflow/python/framework/dtypes.py:528: FutureWarning: Passing (type, 1) or '1type' as a synonym of type is deprecated; in a future version of numpy, it will be understood as (type, (1,)) / '(1,)type'.\n",
      "  _np_qint16 = np.dtype([(\"qint16\", np.int16, 1)])\n",
      "/Users/thisiszhou/.virtualenvs/learn/lib/python3.6/site-packages/tensorflow/python/framework/dtypes.py:529: FutureWarning: Passing (type, 1) or '1type' as a synonym of type is deprecated; in a future version of numpy, it will be understood as (type, (1,)) / '(1,)type'.\n",
      "  _np_quint16 = np.dtype([(\"quint16\", np.uint16, 1)])\n",
      "/Users/thisiszhou/.virtualenvs/learn/lib/python3.6/site-packages/tensorflow/python/framework/dtypes.py:530: FutureWarning: Passing (type, 1) or '1type' as a synonym of type is deprecated; in a future version of numpy, it will be understood as (type, (1,)) / '(1,)type'.\n",
      "  _np_qint32 = np.dtype([(\"qint32\", np.int32, 1)])\n",
      "/Users/thisiszhou/.virtualenvs/learn/lib/python3.6/site-packages/tensorflow/python/framework/dtypes.py:535: FutureWarning: Passing (type, 1) or '1type' as a synonym of type is deprecated; in a future version of numpy, it will be understood as (type, (1,)) / '(1,)type'.\n",
      "  np_resource = np.dtype([(\"resource\", np.ubyte, 1)])\n"
     ]
    },
    {
     "name": "stdout",
     "output_type": "stream",
     "text": [
      "creating coco index...\n",
      "load json:  /Users/thisiszhou/Documents/dataset/coco/annotations/instances_val2014.json  succeed\n",
      "find 3460 crowd things\n",
      "index created!\n",
      "creating joint index!\n",
      "load json:  /Users/thisiszhou/Documents/dataset/nsfw/annotations/train.json  succeed\n",
      "index created!\n"
     ]
    }
   ],
   "source": [
    "# 1 load data\n",
    "from utils.datareader import DataSet\n",
    "\n",
    "annotation_file = \"/Users/thisiszhou/Documents/dataset/\" + \\\n",
    "                    \"coco/annotations/instances_val2014.json\"\n",
    "photo_folder = \"/Users/thisiszhou/Documents/dataset/coco/val2014\"\n",
    "\n",
    "sexy_annotation_file = \"/Users/thisiszhou/Documents/dataset/nsfw/annotations/train.json\"\n",
    "sexy_photo_file = \"/Users/thisiszhou/Documents/dataset/nsfw/train/\"\n",
    "\n",
    "cocodata = DataSet(annotation_file, photo_folder, sexy_annotation_file, sexy_photo_file)\n",
    "#cocodata = DataSet(annotation_file, photo_folder, None, None)\n",
    "cocodata.create_index()\n",
    "coco_classes, joint_classes = cocodata.get_classes()"
   ]
  },
  {
   "cell_type": "code",
   "execution_count": 2,
   "metadata": {
    "scrolled": false
   },
   "outputs": [
    {
     "name": "stdout",
     "output_type": "stream",
     "text": [
      "WARNING:tensorflow:From /Users/thisiszhou/.virtualenvs/learn/lib/python3.6/site-packages/tensorflow/python/framework/op_def_library.py:263: colocate_with (from tensorflow.python.framework.ops) is deprecated and will be removed in a future version.\n",
      "Instructions for updating:\n",
      "Colocations handled automatically by placer.\n",
      "WARNING:tensorflow:From /Users/thisiszhou/Desktop/code/Yolov3_realese1.0/model/yolov3.py:148: py_func (from tensorflow.python.ops.script_ops) is deprecated and will be removed in a future version.\n",
      "Instructions for updating:\n",
      "tf.py_func is deprecated in TF V2. Instead, use\n",
      "    tf.py_function, which takes a python function which manipulates tf eager\n",
      "    tensors instead of numpy arrays. It's easy to convert a tf eager tensor to\n",
      "    an ndarray (just call tensor.numpy()) but having access to eager tensors\n",
      "    means `tf.py_function`s can use accelerators such as GPUs as well as\n",
      "    being differentiable using a gradient tape.\n",
      "    \n",
      "WARNING:tensorflow:From /Users/thisiszhou/.virtualenvs/learn/lib/python3.6/site-packages/tensorflow/python/ops/array_grad.py:425: to_int32 (from tensorflow.python.ops.math_ops) is deprecated and will be removed in a future version.\n",
      "Instructions for updating:\n",
      "Use tf.cast instead.\n"
     ]
    },
    {
     "name": "stderr",
     "output_type": "stream",
     "text": [
      "/Users/thisiszhou/.virtualenvs/learn/lib/python3.6/site-packages/tensorflow/python/ops/gradients_impl.py:110: UserWarning: Converting sparse IndexedSlices to a dense Tensor of unknown shape. This may consume a large amount of memory.\n",
      "  \"Converting sparse IndexedSlices to a dense Tensor of unknown shape. \"\n"
     ]
    },
    {
     "name": "stdout",
     "output_type": "stream",
     "text": [
      "WARNING:tensorflow:From /Users/thisiszhou/.virtualenvs/learn/lib/python3.6/site-packages/tensorflow/python/training/saver.py:1266: checkpoint_exists (from tensorflow.python.training.checkpoint_management) is deprecated and will be removed in a future version.\n",
      "Instructions for updating:\n",
      "Use standard file APIs to check for files with this prefix.\n",
      "INFO:tensorflow:Restoring parameters from ./joint_weights/yolov3-8000\n",
      "load model weights success!\n"
     ]
    }
   ],
   "source": [
    "# create model\n",
    "from model.yolov3 import YoloJoint\n",
    "\n",
    "yolo_model = YoloJoint(trainable=True, debug_model=False)\n",
    "yolo_model.build(image_size=416, coco_classes=80, joint_classes=3)\n",
    "#yolo_model.build(image_size=416, coco_classes=80, joint_classes=1)\n",
    "#yolo_model.init_sess(\"test_model_weghits/yolo\")\n",
    "#yolo_model.init_sess(pre_weights=\"./coco_weights/yolov3-2000\")\n",
    "#yolo_model.init_sess(pre_weights=\"./model_weights/yolov3-6000\")\n",
    "yolo_model.init_sess(\"./joint_weights/yolov3-8000\")\n",
    "#yolo_model.init_sess()"
   ]
  },
  {
   "cell_type": "code",
   "execution_count": 3,
   "metadata": {
    "scrolled": true
   },
   "outputs": [
    {
     "name": "stdout",
     "output_type": "stream",
     "text": [
      "batch_ids: [[393243, 262175], [1203]]\n"
     ]
    }
   ],
   "source": [
    "imgs, boxes, _, obj_nums, batch_ids = cocodata.get_batch(2, joint_batch_size=1,image_size=416,\n",
    "                                                         certain_id=[[393243, 262175], [1203]])\n",
    "                                                         #certain_id=[131089])\n",
    "                                                         #certain_id=[262162, 131089])\n",
    "#131108\n",
    "                                                         #certain_id=[262161])\n",
    "                                                         #certain_id=[524297])\n",
    "                                                         #certain_id=[262145, 262146, 524291, 524297, \n",
    "                                                         #            9, 262159, 524311, 25])\n",
    "                                                         #certain_id=[262175])\n",
    "print(\"batch_ids:\", batch_ids)\n",
    "#cocodata.show_one_image_info(boxes, masks)\n",
    "import cv2\n",
    "cv2.imwrite(\"debug_info/test_ob.jpg\", imgs[0])\n",
    "try:\n",
    "    cv2.imwrite(\"debug_info/test_sexy_ob0.jpg\", imgs[1])\n",
    "except:\n",
    "    pass\n",
    "\n",
    "import numpy as np"
   ]
  },
  {
   "cell_type": "code",
   "execution_count": 4,
   "metadata": {},
   "outputs": [],
   "source": [
    "loss11 = yolo_model.train_one_batch(imgs[-1:], boxes[-1:], obj_nums[-1:], 1e-4)"
   ]
  },
  {
   "cell_type": "code",
   "execution_count": 33,
   "metadata": {},
   "outputs": [
    {
     "data": {
      "text/plain": [
       "[4.4295664, 4.1669383, 0.6348344, 3.7474473, 0.35615307, 13.334939]"
      ]
     },
     "execution_count": 33,
     "metadata": {},
     "output_type": "execute_result"
    }
   ],
   "source": [
    "# loss 1 2\n",
    "loss11"
   ]
  },
  {
   "cell_type": "code",
   "execution_count": 35,
   "metadata": {},
   "outputs": [
    {
     "data": {
      "text/plain": [
       "[4.3369923, 4.1669383, 0.6348344, 1.6889238, 0.35244492, 11.180134]"
      ]
     },
     "execution_count": 35,
     "metadata": {},
     "output_type": "execute_result"
    }
   ],
   "source": [
    "#loss11 1\n",
    "loss11"
   ]
  },
  {
   "cell_type": "code",
   "execution_count": 37,
   "metadata": {},
   "outputs": [
    {
     "data": {
      "text/plain": [
       "[0.09257418, 0.0, 0.0, 2.0585234, 0.0037081372, 2.1548057]"
      ]
     },
     "execution_count": 37,
     "metadata": {},
     "output_type": "execute_result"
    }
   ],
   "source": [
    "#loss11 2\n",
    "loss11"
   ]
  },
  {
   "cell_type": "code",
   "execution_count": 5,
   "metadata": {},
   "outputs": [
    {
     "name": "stdout",
     "output_type": "stream",
     "text": [
      "batch_i num: 0 1\n",
      "decode_boxes: (13, 13, 3, 4) [[[[ -56.969223   -17.371515   141.49501     78.07803  ]\n",
      "   [ -63.02822    -78.75801    154.51482    203.61528  ]\n",
      "   [-153.67996   -126.919525   339.56348    289.99023  ]]\n",
      "\n",
      "  [[  -6.170597   -19.56661    112.63671     84.64369  ]\n",
      "   [ -14.022022   -77.18158    124.1262     197.34033  ]\n",
      "   [-100.38278   -122.454956   296.19644    275.7514   ]]\n",
      "\n",
      "  [[  -2.7584534  -18.491457   148.17223     72.86524  ]\n",
      "   [   8.195595   -77.01352    132.91177    197.57198  ]\n",
      "   [ -96.38004   -114.11838    348.1302     263.4014   ]]\n",
      "\n",
      "  ...\n",
      "\n",
      "  [[ 250.71587    -10.369436   175.60892     72.804924 ]\n",
      "   [ 250.4221     -74.56048    172.64865    188.01775  ]\n",
      "   [ 172.77504   -107.65522    327.59335    254.74194  ]]\n",
      "\n",
      "  [[ 287.76346    -14.910643   156.51848     75.07693  ]\n",
      "   [ 296.84784    -75.5237     141.37247    192.213    ]\n",
      "   [ 218.5012    -107.62244    301.63925    254.01622  ]]\n",
      "\n",
      "  [[ 325.79236    -21.064907   134.68976     83.01269  ]\n",
      "   [ 316.8712     -79.48053    150.52165    199.44829  ]\n",
      "   [ 228.85301   -126.80047    333.27188    282.17474  ]]]\n",
      "\n",
      "\n",
      " [[[ -45.6024      -1.6777077  133.11102     84.98539  ]\n",
      "   [ -50.752987   -61.625088   139.2709     212.73857  ]\n",
      "   [-164.09702    -82.159744   369.61316    264.80963  ]]\n",
      "\n",
      "  [[ -12.820065   -13.678635   106.46406    113.80653  ]\n",
      "   [ -14.330704   -42.20102    114.91094    192.58295  ]\n",
      "   [-105.942444   -79.22897    311.94415    266.9537   ]]\n",
      "\n",
      "  [[   6.296562   -17.15258    132.62212    131.77292  ]\n",
      "   [  14.777168   -46.65296    117.87041    198.53787  ]\n",
      "   [-111.66351    -74.71278    384.60037    247.89671  ]]\n",
      "\n",
      "  ...\n",
      "\n",
      "  [[ 261.21948      1.7835464  159.87932     86.70743  ]\n",
      "   [ 251.66745    -41.86269    177.38922    183.90886  ]\n",
      "   [ 162.7005     -64.409584   345.87372    235.17105  ]]\n",
      "\n",
      "  [[ 301.204        4.3234444  122.66382     87.1807   ]\n",
      "   [ 303.41       -51.421352   134.58142    215.11447  ]\n",
      "   [ 210.68208    -79.55832    314.49777    273.21396  ]]\n",
      "\n",
      "  [[ 334.5852       3.4818115  124.97325     87.006    ]\n",
      "   [ 326.41986    -57.154816   136.56602    218.9526   ]\n",
      "   [ 238.18889    -67.85689    320.0676     244.73094  ]]]\n",
      "\n",
      "\n",
      " [[[ -49.552658    33.684605   124.1443      90.73827  ]\n",
      "   [ -66.48169    -23.68303    166.22466    212.28503  ]\n",
      "   [-153.06279    -62.026512   347.73837    282.31998  ]]\n",
      "\n",
      "  [[ -15.355904    25.120678   128.93442    113.91035  ]\n",
      "   [ -18.101841    -1.0265045  134.64749    173.51935  ]\n",
      "   [-123.13741    -44.033043   340.10345    242.8589   ]]\n",
      "\n",
      "  [[  19.950489    35.337776   122.95908    104.11131  ]\n",
      "   [   1.2558289   -2.7401657  157.20212    169.65355  ]\n",
      "   [-103.59385    -41.8927     370.44855    238.69771  ]]\n",
      "\n",
      "  ...\n",
      "\n",
      "  [[ 264.82825     35.99081    148.09564     82.733894 ]\n",
      "   [ 251.63663     -4.5602646  174.8562     179.63565  ]\n",
      "   [ 172.43863    -22.521706   322.80682    212.85175  ]]\n",
      "\n",
      "  [[ 301.3257      32.02681    129.11015     86.33246  ]\n",
      "   [ 297.63745    -21.783981   138.76767    204.80975  ]\n",
      "   [ 217.7798     -54.048096   297.70987    270.025    ]]\n",
      "\n",
      "  [[ 325.20688     31.166927   142.73482     87.45072  ]\n",
      "   [ 314.15723    -32.595375   161.94337    222.8579   ]\n",
      "   [ 237.93419    -48.29001    313.65823    256.20975  ]]]\n",
      "\n",
      "\n",
      " ...\n",
      "\n",
      "\n",
      " [[[ -43.130257   287.15295    113.77144     98.870636 ]\n",
      "   [ -55.39978    242.62292    137.76637    178.77246  ]\n",
      "   [-160.73378    213.44981    351.90173    247.11862  ]]\n",
      "\n",
      "  [[   2.06995    291.1384     102.44192    106.29114  ]\n",
      "   [  -3.050293   253.97702    113.79324    165.80688  ]\n",
      "   [-122.86705    223.52852    339.78027    230.28812  ]]\n",
      "\n",
      "  [[  10.874699   290.83942    125.338585   105.32778  ]\n",
      "   [   1.9317245  260.78568    140.7208     157.84492  ]\n",
      "   [ -77.43672    226.4708     315.78708    222.47939  ]]\n",
      "\n",
      "  ...\n",
      "\n",
      "  [[ 273.5502     271.5268     121.876755   114.468056 ]\n",
      "   [ 270.47852    257.7417     128.99606    154.4512   ]\n",
      "   [ 159.56181    227.95532    358.57724    215.19069  ]]\n",
      "\n",
      "  [[ 314.4413     272.77228    119.584915   113.36586  ]\n",
      "   [ 304.28928    262.5559     125.34772    153.71457  ]\n",
      "   [ 207.9753     237.12717    327.96066    205.97894  ]]\n",
      "\n",
      "  [[ 337.12582    281.16446    125.29718     98.30754  ]\n",
      "   [ 330.59174    253.85538    138.4876     168.8166   ]\n",
      "   [ 228.21391    215.96106    342.78073    243.24269  ]]]\n",
      "\n",
      "\n",
      " [[[ -41.37037    319.25122    117.62485     83.23174  ]\n",
      "   [ -65.67676    270.36743    158.8695     178.28354  ]\n",
      "   [-162.85158    248.16315    355.02087    236.4926   ]]\n",
      "\n",
      "  [[   0.4388237  324.3186     108.90696     82.90446  ]\n",
      "   [  -7.7360573  283.0619     125.49979    148.87125  ]\n",
      "   [-136.54883    255.0899     365.87872    216.57143  ]]\n",
      "\n",
      "  [[   2.9863586  333.51743    136.43977     81.68286  ]\n",
      "   [  -3.9303818  289.95938    152.72758    138.78563  ]\n",
      "   [ -92.43721    255.06439    345.31818    216.00763  ]]\n",
      "\n",
      "  ...\n",
      "\n",
      "  [[ 280.10516    315.6229     110.05351     95.47674  ]\n",
      "   [ 266.4412     274.96173    136.8015     178.07938  ]\n",
      "   [ 151.85356    237.13387    368.40848    255.0245   ]]\n",
      "\n",
      "  [[ 315.35623    310.2589     105.83047    108.658646 ]\n",
      "   [ 302.46887    258.35107    123.72159    211.11037  ]\n",
      "   [ 201.56717    250.51416    334.96558    231.40057  ]]\n",
      "\n",
      "  [[ 329.97855    324.35965    142.03809     76.263794 ]\n",
      "   [ 323.48502    261.2473     150.09721    206.73157  ]\n",
      "   [ 221.04488    237.00925    362.7684     254.23204  ]]]\n",
      "\n",
      "\n",
      " [[[ -58.99993    361.32056    153.0333      60.331425 ]\n",
      "   [ -66.355965   289.0701     159.99786    217.62286  ]\n",
      "   [-164.41531    271.19922    362.32825    256.59354  ]]\n",
      "\n",
      "  [[  -9.739563   361.11807    130.97147     55.897747 ]\n",
      "   [ -16.981358   294.926      135.98047    209.5508   ]\n",
      "   [-129.25563    270.9995     354.3361     259.65823  ]]\n",
      "\n",
      "  [[  10.129738   361.12738    134.62769     55.39585  ]\n",
      "   [  -3.001503   308.2173     155.80031    182.21536  ]\n",
      "   [ -99.84388    273.93646    364.59918    257.49683  ]]\n",
      "\n",
      "  ...\n",
      "\n",
      "  [[ 254.2574     364.80884    164.60709     66.58912  ]\n",
      "   [ 258.36414    304.7342     155.08524    190.5978   ]\n",
      "   [ 166.80505    258.93018    334.71838    279.86655  ]]\n",
      "\n",
      "  [[ 307.1422     355.55774    127.93354     74.50544  ]\n",
      "   [ 310.51135    299.49243    125.32861    199.01839  ]\n",
      "   [ 201.8984     261.953      333.39905    271.871    ]]\n",
      "\n",
      "  [[ 322.414      352.48538    150.3702      87.450874 ]\n",
      "   [ 329.2052     300.60568    136.87222    199.47821  ]\n",
      "   [ 236.6097     254.45024    328.8071     282.1832   ]]]]\n",
      "iou num in encode: 0\n",
      "ignore_threshold: 0.5\n",
      "iou num in encode: 0\n",
      "ignore_threshold: 0.5\n",
      "iou num in encode: 8\n",
      "ignore_threshold: 0.5\n",
      "normal:\n",
      "pre cate: 3\n",
      "conf: 0.7601339474079325\n",
      "max biou: 0.67599154\n",
      "index: 2 32 51 1\n",
      "box_label: [401.648    252.45451   14.352     20.868196]\n",
      "true label 3\n",
      "box: [401.648    252.45451   14.352     20.868196]\n",
      "pre_box: [404.26703  251.55757   10.627819  23.557884]\n",
      "boxes_label_encode: [array([], dtype=float32), array([], dtype=float32), array([[ 0.10300064,  0.86107635,  0.897     ,  0.6956065 ,  1.        ,\n",
      "         0.        ,  0.        ,  1.        ,  0.        ,  0.        ,\n",
      "         0.        ,  0.        ,  0.        ,  0.        ,  0.        ,\n",
      "         0.        ,  0.        ,  0.        ,  0.        ,  0.        ,\n",
      "         0.        ,  0.        ,  0.        ,  0.        ,  0.        ,\n",
      "         0.        ,  0.        ,  0.        ,  0.        ,  0.        ,\n",
      "         0.        ,  0.        ,  0.        ,  0.        ,  0.        ,\n",
      "         0.        ,  0.        ,  0.        ,  0.        ,  0.        ,\n",
      "         0.        ,  0.        ,  0.        ,  0.        ,  0.        ,\n",
      "         0.        ,  0.        ,  0.        ,  0.        ,  0.        ,\n",
      "         0.        ,  0.        ,  0.        ,  0.        ,  0.        ,\n",
      "         0.        ,  0.        ,  0.        ,  0.        ,  0.        ,\n",
      "         0.        ,  0.        ,  0.        ,  0.        ,  0.        ,\n",
      "         0.        ,  0.        ,  0.        ,  0.        ,  0.        ,\n",
      "         0.        ,  0.        ,  0.        ,  0.        ,  0.        ,\n",
      "         0.        ,  0.        ,  0.        ,  0.        ,  0.        ,\n",
      "         0.        ,  0.        ,  0.        ,  0.        ,  0.        ,\n",
      "        -1.        , -1.        , -1.        ]], dtype=float32)]\n",
      "ob1, ob2, ob3 0: 0 0 1\n",
      "ob1, ob2, ob3 1: 0 0 8\n",
      "\n"
     ]
    }
   ],
   "source": [
    "loss11, boxes_label_encode = yolo_model.train_one_batch(imgs[0:2], boxes[0:1], np.array([1], dtype=np.float32), 1e-4)"
   ]
  },
  {
   "cell_type": "code",
   "execution_count": 6,
   "metadata": {},
   "outputs": [
    {
     "name": "stdout",
     "output_type": "stream",
     "text": [
      "batch_i num: 0 1\n",
      "decode_boxes: (13, 13, 3, 4) [[[[ -56.969223   -17.371515   141.49501     78.07803  ]\n",
      "   [ -63.02822    -78.75801    154.51482    203.61528  ]\n",
      "   [-153.67996   -126.919525   339.56348    289.99023  ]]\n",
      "\n",
      "  [[  -6.170597   -19.56661    112.63671     84.64369  ]\n",
      "   [ -14.022022   -77.18158    124.1262     197.34033  ]\n",
      "   [-100.38278   -122.454956   296.19644    275.7514   ]]\n",
      "\n",
      "  [[  -2.7584534  -18.491457   148.17223     72.86524  ]\n",
      "   [   8.195595   -77.01352    132.91177    197.57198  ]\n",
      "   [ -96.38004   -114.11838    348.1302     263.4014   ]]\n",
      "\n",
      "  ...\n",
      "\n",
      "  [[ 250.71587    -10.369436   175.60892     72.804924 ]\n",
      "   [ 250.4221     -74.56048    172.64865    188.01775  ]\n",
      "   [ 172.77504   -107.65522    327.59335    254.74194  ]]\n",
      "\n",
      "  [[ 287.76346    -14.910643   156.51848     75.07693  ]\n",
      "   [ 296.84784    -75.5237     141.37247    192.213    ]\n",
      "   [ 218.5012    -107.62244    301.63925    254.01622  ]]\n",
      "\n",
      "  [[ 325.79236    -21.064907   134.68976     83.01269  ]\n",
      "   [ 316.8712     -79.48053    150.52165    199.44829  ]\n",
      "   [ 228.85301   -126.80047    333.27188    282.17474  ]]]\n",
      "\n",
      "\n",
      " [[[ -45.6024      -1.6777077  133.11102     84.98539  ]\n",
      "   [ -50.752987   -61.625088   139.2709     212.73857  ]\n",
      "   [-164.09702    -82.159744   369.61316    264.80963  ]]\n",
      "\n",
      "  [[ -12.820065   -13.678635   106.46406    113.80653  ]\n",
      "   [ -14.330704   -42.20102    114.91094    192.58295  ]\n",
      "   [-105.942444   -79.22897    311.94415    266.9537   ]]\n",
      "\n",
      "  [[   6.296562   -17.15258    132.62212    131.77292  ]\n",
      "   [  14.777168   -46.65296    117.87041    198.53787  ]\n",
      "   [-111.66351    -74.71278    384.60037    247.89671  ]]\n",
      "\n",
      "  ...\n",
      "\n",
      "  [[ 261.21948      1.7835464  159.87932     86.70743  ]\n",
      "   [ 251.66745    -41.86269    177.38922    183.90886  ]\n",
      "   [ 162.7005     -64.409584   345.87372    235.17105  ]]\n",
      "\n",
      "  [[ 301.204        4.3234444  122.66382     87.1807   ]\n",
      "   [ 303.41       -51.421352   134.58142    215.11447  ]\n",
      "   [ 210.68208    -79.55832    314.49777    273.21396  ]]\n",
      "\n",
      "  [[ 334.5852       3.4818115  124.97325     87.006    ]\n",
      "   [ 326.41986    -57.154816   136.56602    218.9526   ]\n",
      "   [ 238.18889    -67.85689    320.0676     244.73094  ]]]\n",
      "\n",
      "\n",
      " [[[ -49.552658    33.684605   124.1443      90.73827  ]\n",
      "   [ -66.48169    -23.68303    166.22466    212.28503  ]\n",
      "   [-153.06279    -62.026512   347.73837    282.31998  ]]\n",
      "\n",
      "  [[ -15.355904    25.120678   128.93442    113.91035  ]\n",
      "   [ -18.101841    -1.0265045  134.64749    173.51935  ]\n",
      "   [-123.13741    -44.033043   340.10345    242.8589   ]]\n",
      "\n",
      "  [[  19.950489    35.337776   122.95908    104.11131  ]\n",
      "   [   1.2558289   -2.7401657  157.20212    169.65355  ]\n",
      "   [-103.59385    -41.8927     370.44855    238.69771  ]]\n",
      "\n",
      "  ...\n",
      "\n",
      "  [[ 264.82825     35.99081    148.09564     82.733894 ]\n",
      "   [ 251.63663     -4.5602646  174.8562     179.63565  ]\n",
      "   [ 172.43863    -22.521706   322.80682    212.85175  ]]\n",
      "\n",
      "  [[ 301.3257      32.02681    129.11015     86.33246  ]\n",
      "   [ 297.63745    -21.783981   138.76767    204.80975  ]\n",
      "   [ 217.7798     -54.048096   297.70987    270.025    ]]\n",
      "\n",
      "  [[ 325.20688     31.166927   142.73482     87.45072  ]\n",
      "   [ 314.15723    -32.595375   161.94337    222.8579   ]\n",
      "   [ 237.93419    -48.29001    313.65823    256.20975  ]]]\n",
      "\n",
      "\n",
      " ...\n",
      "\n",
      "\n",
      " [[[ -43.130257   287.15295    113.77144     98.870636 ]\n",
      "   [ -55.39978    242.62292    137.76637    178.77246  ]\n",
      "   [-160.73378    213.44981    351.90173    247.11862  ]]\n",
      "\n",
      "  [[   2.06995    291.1384     102.44192    106.29114  ]\n",
      "   [  -3.050293   253.97702    113.79324    165.80688  ]\n",
      "   [-122.86705    223.52852    339.78027    230.28812  ]]\n",
      "\n",
      "  [[  10.874699   290.83942    125.338585   105.32778  ]\n",
      "   [   1.9317245  260.78568    140.7208     157.84492  ]\n",
      "   [ -77.43672    226.4708     315.78708    222.47939  ]]\n",
      "\n",
      "  ...\n",
      "\n",
      "  [[ 273.5502     271.5268     121.876755   114.468056 ]\n",
      "   [ 270.47852    257.7417     128.99606    154.4512   ]\n",
      "   [ 159.56181    227.95532    358.57724    215.19069  ]]\n",
      "\n",
      "  [[ 314.4413     272.77228    119.584915   113.36586  ]\n",
      "   [ 304.28928    262.5559     125.34772    153.71457  ]\n",
      "   [ 207.9753     237.12717    327.96066    205.97894  ]]\n",
      "\n",
      "  [[ 337.12582    281.16446    125.29718     98.30754  ]\n",
      "   [ 330.59174    253.85538    138.4876     168.8166   ]\n",
      "   [ 228.21391    215.96106    342.78073    243.24269  ]]]\n",
      "\n",
      "\n",
      " [[[ -41.37037    319.25122    117.62485     83.23174  ]\n",
      "   [ -65.67676    270.36743    158.8695     178.28354  ]\n",
      "   [-162.85158    248.16315    355.02087    236.4926   ]]\n",
      "\n",
      "  [[   0.4388237  324.3186     108.90696     82.90446  ]\n",
      "   [  -7.7360573  283.0619     125.49979    148.87125  ]\n",
      "   [-136.54883    255.0899     365.87872    216.57143  ]]\n",
      "\n",
      "  [[   2.9863586  333.51743    136.43977     81.68286  ]\n",
      "   [  -3.9303818  289.95938    152.72758    138.78563  ]\n",
      "   [ -92.43721    255.06439    345.31818    216.00763  ]]\n",
      "\n",
      "  ...\n",
      "\n",
      "  [[ 280.10516    315.6229     110.05351     95.47674  ]\n",
      "   [ 266.4412     274.96173    136.8015     178.07938  ]\n",
      "   [ 151.85356    237.13387    368.40848    255.0245   ]]\n",
      "\n",
      "  [[ 315.35623    310.2589     105.83047    108.658646 ]\n",
      "   [ 302.46887    258.35107    123.72159    211.11037  ]\n",
      "   [ 201.56717    250.51416    334.96558    231.40057  ]]\n",
      "\n",
      "  [[ 329.97855    324.35965    142.03809     76.263794 ]\n",
      "   [ 323.48502    261.2473     150.09721    206.73157  ]\n",
      "   [ 221.04488    237.00925    362.7684     254.23204  ]]]\n",
      "\n",
      "\n",
      " [[[ -58.99993    361.32056    153.0333      60.331425 ]\n",
      "   [ -66.355965   289.0701     159.99786    217.62286  ]\n",
      "   [-164.41531    271.19922    362.32825    256.59354  ]]\n",
      "\n",
      "  [[  -9.739563   361.11807    130.97147     55.897747 ]\n",
      "   [ -16.981358   294.926      135.98047    209.5508   ]\n",
      "   [-129.25563    270.9995     354.3361     259.65823  ]]\n",
      "\n",
      "  [[  10.129738   361.12738    134.62769     55.39585  ]\n",
      "   [  -3.001503   308.2173     155.80031    182.21536  ]\n",
      "   [ -99.84388    273.93646    364.59918    257.49683  ]]\n",
      "\n",
      "  ...\n",
      "\n",
      "  [[ 254.2574     364.80884    164.60709     66.58912  ]\n",
      "   [ 258.36414    304.7342     155.08524    190.5978   ]\n",
      "   [ 166.80505    258.93018    334.71838    279.86655  ]]\n",
      "\n",
      "  [[ 307.1422     355.55774    127.93354     74.50544  ]\n",
      "   [ 310.51135    299.49243    125.32861    199.01839  ]\n",
      "   [ 201.8984     261.953      333.39905    271.871    ]]\n",
      "\n",
      "  [[ 322.414      352.48538    150.3702      87.450874 ]\n",
      "   [ 329.2052     300.6057     136.87222    199.47821  ]\n",
      "   [ 236.6097     254.45026    328.8071     282.18317  ]]]]\n",
      "iou num in encode: 0\n",
      "ignore_threshold: 0.5\n",
      "iou num in encode: 0\n",
      "ignore_threshold: 0.5\n",
      "iou num in encode: 8\n",
      "ignore_threshold: 0.5\n",
      "normal:\n",
      "pre cate: 3\n",
      "conf: 0.7601339474079325\n",
      "max biou: 0.67599154\n",
      "index: 2 32 51 1\n",
      "box_label: [401.648    252.45451   14.352     20.868196]\n",
      "true label 3\n",
      "box: [401.648    252.45451   14.352     20.868196]\n",
      "pre_box: [404.26703  251.55757   10.627819  23.557884]\n",
      "boxes_label_encode: [array([], dtype=float32), array([], dtype=float32), array([[ 0.10300064,  0.86107635,  0.897     ,  0.6956065 ,  1.        ,\n",
      "         0.        ,  0.        ,  1.        ,  0.        ,  0.        ,\n",
      "         0.        ,  0.        ,  0.        ,  0.        ,  0.        ,\n",
      "         0.        ,  0.        ,  0.        ,  0.        ,  0.        ,\n",
      "         0.        ,  0.        ,  0.        ,  0.        ,  0.        ,\n",
      "         0.        ,  0.        ,  0.        ,  0.        ,  0.        ,\n",
      "         0.        ,  0.        ,  0.        ,  0.        ,  0.        ,\n",
      "         0.        ,  0.        ,  0.        ,  0.        ,  0.        ,\n",
      "         0.        ,  0.        ,  0.        ,  0.        ,  0.        ,\n",
      "         0.        ,  0.        ,  0.        ,  0.        ,  0.        ,\n",
      "         0.        ,  0.        ,  0.        ,  0.        ,  0.        ,\n",
      "         0.        ,  0.        ,  0.        ,  0.        ,  0.        ,\n",
      "         0.        ,  0.        ,  0.        ,  0.        ,  0.        ,\n",
      "         0.        ,  0.        ,  0.        ,  0.        ,  0.        ,\n",
      "         0.        ,  0.        ,  0.        ,  0.        ,  0.        ,\n",
      "         0.        ,  0.        ,  0.        ,  0.        ,  0.        ,\n",
      "         0.        ,  0.        ,  0.        ,  0.        ,  0.        ,\n",
      "        -1.        , -1.        , -1.        ]], dtype=float32)]\n",
      "ob1, ob2, ob3 0: 0 0 1\n",
      "ob1, ob2, ob3 1: 0 0 8\n",
      "\n"
     ]
    }
   ],
   "source": [
    "loss11, boxes_label_encode = yolo_model.train_one_batch(imgs[0:1], boxes[0:1], np.array([1], dtype=np.float32), 1e-4)"
   ]
  },
  {
   "cell_type": "code",
   "execution_count": null,
   "metadata": {},
   "outputs": [],
   "source": [
    "loss11, boxes_label_encode = yolo_model.train_one_batch(imgs[0:1], boxes[0:1], np.array([1], dtype=np.float32), 1e-4)"
   ]
  },
  {
   "cell_type": "code",
   "execution_count": 7,
   "metadata": {},
   "outputs": [
    {
     "name": "stdout",
     "output_type": "stream",
     "text": [
      "[0.59962225, 0.23851827, 0.5666051, 0.051098436, 2.7545109, 4.210355]\n",
      "[array([], shape=(0, 88), dtype=float32), array([], shape=(0, 88), dtype=float32), array([[ 0.10300064,  0.86107635,  0.897     ,  0.6956065 ,  1.        ,\n",
      "         0.        ,  0.        ,  1.        ,  0.        ,  0.        ,\n",
      "         0.        ,  0.        ,  0.        ,  0.        ,  0.        ,\n",
      "         0.        ,  0.        ,  0.        ,  0.        ,  0.        ,\n",
      "         0.        ,  0.        ,  0.        ,  0.        ,  0.        ,\n",
      "         0.        ,  0.        ,  0.        ,  0.        ,  0.        ,\n",
      "         0.        ,  0.        ,  0.        ,  0.        ,  0.        ,\n",
      "         0.        ,  0.        ,  0.        ,  0.        ,  0.        ,\n",
      "         0.        ,  0.        ,  0.        ,  0.        ,  0.        ,\n",
      "         0.        ,  0.        ,  0.        ,  0.        ,  0.        ,\n",
      "         0.        ,  0.        ,  0.        ,  0.        ,  0.        ,\n",
      "         0.        ,  0.        ,  0.        ,  0.        ,  0.        ,\n",
      "         0.        ,  0.        ,  0.        ,  0.        ,  0.        ,\n",
      "         0.        ,  0.        ,  0.        ,  0.        ,  0.        ,\n",
      "         0.        ,  0.        ,  0.        ,  0.        ,  0.        ,\n",
      "         0.        ,  0.        ,  0.        ,  0.        ,  0.        ,\n",
      "         0.        ,  0.        ,  0.        ,  0.        ,  0.        ,\n",
      "        -1.        , -1.        , -1.        ]], dtype=float32)]\n"
     ]
    },
    {
     "data": {
      "text/plain": [
       "(None, None)"
      ]
     },
     "execution_count": 7,
     "metadata": {},
     "output_type": "execute_result"
    }
   ],
   "source": [
    "print(loss11), print(boxes_label_encode)"
   ]
  },
  {
   "cell_type": "code",
   "execution_count": 11,
   "metadata": {},
   "outputs": [
    {
     "name": "stdout",
     "output_type": "stream",
     "text": [
      "[0.16185485, 0.100679904, 0.51087666, 0.020727277, 2.6614602, 3.4555988]\n",
      "[array([], shape=(0, 88), dtype=float32), array([], shape=(0, 88), dtype=float32), array([[ 0.10300064,  0.86107635,  0.897     ,  0.6956065 ,  1.        ,\n",
      "         0.        ,  0.        ,  1.        ,  0.        ,  0.        ,\n",
      "         0.        ,  0.        ,  0.        ,  0.        ,  0.        ,\n",
      "         0.        ,  0.        ,  0.        ,  0.        ,  0.        ,\n",
      "         0.        ,  0.        ,  0.        ,  0.        ,  0.        ,\n",
      "         0.        ,  0.        ,  0.        ,  0.        ,  0.        ,\n",
      "         0.        ,  0.        ,  0.        ,  0.        ,  0.        ,\n",
      "         0.        ,  0.        ,  0.        ,  0.        ,  0.        ,\n",
      "         0.        ,  0.        ,  0.        ,  0.        ,  0.        ,\n",
      "         0.        ,  0.        ,  0.        ,  0.        ,  0.        ,\n",
      "         0.        ,  0.        ,  0.        ,  0.        ,  0.        ,\n",
      "         0.        ,  0.        ,  0.        ,  0.        ,  0.        ,\n",
      "         0.        ,  0.        ,  0.        ,  0.        ,  0.        ,\n",
      "         0.        ,  0.        ,  0.        ,  0.        ,  0.        ,\n",
      "         0.        ,  0.        ,  0.        ,  0.        ,  0.        ,\n",
      "         0.        ,  0.        ,  0.        ,  0.        ,  0.        ,\n",
      "         0.        ,  0.        ,  0.        ,  0.        ,  0.        ,\n",
      "        -1.        , -1.        , -1.        ]], dtype=float32)]\n"
     ]
    },
    {
     "data": {
      "text/plain": [
       "(None, None)"
      ]
     },
     "execution_count": 11,
     "metadata": {},
     "output_type": "execute_result"
    }
   ],
   "source": [
    "print(loss11), print(boxes_label_encode)"
   ]
  },
  {
   "cell_type": "code",
   "execution_count": 7,
   "metadata": {},
   "outputs": [
    {
     "data": {
      "text/plain": [
       "[0.16185485, 0.100679904, 0.51087666, 0.020727277, 2.6614602, 3.4555988]"
      ]
     },
     "execution_count": 7,
     "metadata": {},
     "output_type": "execute_result"
    }
   ],
   "source": [
    "loss11"
   ]
  },
  {
   "cell_type": "code",
   "execution_count": 5,
   "metadata": {},
   "outputs": [
    {
     "data": {
      "text/plain": [
       "[0.59962225, 0.23851827, 0.5666051, 0.051098436, 2.7545109, 4.210355]"
      ]
     },
     "execution_count": 5,
     "metadata": {},
     "output_type": "execute_result"
    }
   ],
   "source": [
    "loss11"
   ]
  },
  {
   "cell_type": "code",
   "execution_count": 45,
   "metadata": {},
   "outputs": [
    {
     "data": {
      "text/plain": [
       "[1.0646801, 3.1104493, 3.1314528, 2.9280891, 5.354841, 15.589513]"
      ]
     },
     "execution_count": 45,
     "metadata": {},
     "output_type": "execute_result"
    }
   ],
   "source": [
    "# ob1 2 3 4 5\n",
    "loss11"
   ]
  },
  {
   "cell_type": "code",
   "execution_count": 43,
   "metadata": {},
   "outputs": [
    {
     "data": {
      "text/plain": [
       "[1.3845959, 2.5851843, 2.7353356, 1.7239863, 2.3367043, 10.765806]"
      ]
     },
     "execution_count": 43,
     "metadata": {},
     "output_type": "execute_result"
    }
   ],
   "source": [
    "# ob1 2 3 4\n",
    "loss11"
   ]
  },
  {
   "cell_type": "code",
   "execution_count": 41,
   "metadata": {},
   "outputs": [
    {
     "data": {
      "text/plain": [
       "[1.2845999, 1.6593213, 2.0633647, 0.1377758, 2.5719283, 7.7169905]"
      ]
     },
     "execution_count": 41,
     "metadata": {},
     "output_type": "execute_result"
    }
   ],
   "source": [
    "# ob1 2 3\n",
    "loss11"
   ]
  },
  {
   "cell_type": "code",
   "execution_count": 53,
   "metadata": {},
   "outputs": [
    {
     "data": {
      "text/plain": [
       "[0.59962225, 0.23851827, 0.5666051, 0.051098436, 2.7545109, 4.210355]"
      ]
     },
     "execution_count": 53,
     "metadata": {},
     "output_type": "execute_result"
    }
   ],
   "source": [
    "# ob1\n",
    "loss11"
   ]
  },
  {
   "cell_type": "code",
   "execution_count": 35,
   "metadata": {},
   "outputs": [
    {
     "data": {
      "text/plain": [
       "[0.50933015, 0.9961976, 1.1040796, 0.04109052, 3.1475232, 5.7982206]"
      ]
     },
     "execution_count": 35,
     "metadata": {},
     "output_type": "execute_result"
    }
   ],
   "source": [
    "# ob2\n",
    "loss11"
   ]
  },
  {
   "cell_type": "code",
   "execution_count": 37,
   "metadata": {},
   "outputs": [
    {
     "data": {
      "text/plain": [
       "[1.1089524, 1.2347159, 1.6706847, 0.09218889, 2.7545109, 6.861053]"
      ]
     },
     "execution_count": 37,
     "metadata": {},
     "output_type": "execute_result"
    }
   ],
   "source": [
    "# ob1 and ob2\n",
    "loss11"
   ]
  },
  {
   "cell_type": "code",
   "execution_count": 39,
   "metadata": {},
   "outputs": [
    {
     "data": {
      "text/plain": [
       "1.23471587"
      ]
     },
     "execution_count": 39,
     "metadata": {},
     "output_type": "execute_result"
    }
   ],
   "source": [
    "0.23851827 + 0.9961976"
   ]
  },
  {
   "cell_type": "code",
   "execution_count": 23,
   "metadata": {
    "collapsed": true
   },
   "outputs": [
    {
     "name": "stdout",
     "output_type": "stream",
     "text": [
      "normal:\n",
      "pre cate: 27\n",
      "conf: 0.039415159754069916\n",
      "max biou: 0.8993618\n",
      "index: 1 11 21 1\n",
      "box_label: [309.9905   157.8785    54.467796  44.6875  ]\n",
      "true label 25\n",
      "box: [309.9905   157.8785    54.467796  44.6875  ]\n",
      "pre_box: [309.26547  156.98985   55.32652   42.480385]\n",
      "normal:\n",
      "pre cate: 6\n",
      "conf: 0.999961542536134\n",
      "max biou: 0.93609345\n",
      "index: 0 8 6 1\n",
      "box_label: [ 46.89695 213.1415  351.12338 129.9415 ]\n",
      "true label 6\n",
      "box: [ 46.89695 213.1415  351.12338 129.9415 ]\n",
      "pre_box: [ 45.115448 211.95663  351.12793  137.45068 ]\n",
      "normal:\n",
      "pre cate: 8\n",
      "conf: 0.6090383125408002\n",
      "max biou: 0.89858705\n",
      "index: 2 38 4 2\n",
      "box_label: [ 19.081356 286.364     35.90644   37.7715  ]\n",
      "true label 3\n",
      "box: [ 19.081356 286.364     35.90644   37.7715  ]\n",
      "pre_box: [ 19.35618  287.80884   35.596355  34.236626]\n",
      "normal:\n",
      "pre cate: 3\n",
      "conf: 0.9011334800553823\n",
      "max biou: 0.3962861\n",
      "index: 2 33 50 0\n",
      "box_label: [396.2595    256.3612      8.281      14.3797655]\n",
      "true label 3\n",
      "box: [396.2595    256.3612      8.281      14.3797655]\n",
      "pre_box: [399.76926  257.18842    6.86105   15.851046]\n",
      "normal:\n",
      "pre cate: 1\n",
      "conf: 0.9269321924238002\n",
      "max biou: 0.33982092\n",
      "index: 2 33 49 0\n",
      "box_label: [395.8695   256.78015    2.6325    14.574614]\n",
      "true label 1\n",
      "box: [395.8695   256.78015    2.6325    14.574614]\n",
      "pre_box: [393.6663    259.27548     4.0899773  11.456612 ]\n",
      "normal:\n",
      "pre cate: 3\n",
      "conf: 0.7969657861273094\n",
      "max biou: 0.42763042\n",
      "index: 2 33 51 1\n",
      "box_label: [411.606    254.76347    4.394     21.978828]\n",
      "true label 3\n",
      "box: [411.606    254.76347    4.394     21.978828]\n",
      "pre_box: [405.91736  254.68973   10.079795  21.322256]\n",
      "normal:\n",
      "pre cate: 3\n",
      "conf: 0.8505394497686245\n",
      "max biou: 0.69611806\n",
      "index: 2 32 51 1\n",
      "box_label: [401.648    252.45451   14.352     20.868196]\n",
      "true label 3\n",
      "box: [401.648    252.45451   14.352     20.868196]\n",
      "pre_box: [404.0114   251.23398   11.116844  23.905088]\n"
     ]
    }
   ],
   "source": [
    "loss12 = yolo_model.train_one_batch(imgs[::-1], boxes[::-1], obj_nums[::-1], 1e-4)"
   ]
  },
  {
   "cell_type": "code",
   "execution_count": 18,
   "metadata": {},
   "outputs": [
    {
     "data": {
      "text/plain": [
       "[4.2978973, 3.3506215, 3.169725, 9.512047, 2.3267274, 22.657017]"
      ]
     },
     "execution_count": 18,
     "metadata": {},
     "output_type": "execute_result"
    }
   ],
   "source": [
    "loss12"
   ]
  },
  {
   "cell_type": "code",
   "execution_count": 19,
   "metadata": {
    "collapsed": true
   },
   "outputs": [
    {
     "name": "stdout",
     "output_type": "stream",
     "text": [
      "normal:\n",
      "pre cate: 3\n",
      "conf: 0.549018993972115\n",
      "max biou: 0.702369\n",
      "index: 2 32 51 1\n",
      "box_label: [401.648    252.45451   14.352     20.868196]\n",
      "true label 3\n",
      "box: [401.648    252.45451   14.352     20.868196]\n",
      "pre_box: [404.71454  251.95474   10.631331  22.407839]\n",
      "normal:\n",
      "pre cate: 3\n",
      "conf: 0.6008980068699932\n",
      "max biou: 0.4438823\n",
      "index: 2 33 51 1\n",
      "box_label: [411.606    254.76347    4.394     21.978828]\n",
      "true label 3\n",
      "box: [411.606    254.76347    4.394     21.978828]\n",
      "pre_box: [406.45407  254.9805     9.68262   20.947025]\n",
      "normal:\n",
      "pre cate: 1\n",
      "conf: 0.8389136181017315\n",
      "max biou: 0.4397264\n",
      "index: 2 32 49 0\n",
      "box_label: [395.8695   256.78015    2.6325    14.574614]\n",
      "true label 1\n",
      "box: [395.8695   256.78015    2.6325    14.574614]\n",
      "pre_box: [393.8437    256.32486     4.3081517  13.199175 ]\n",
      "normal:\n",
      "pre cate: 3\n",
      "conf: 0.9048409657734725\n",
      "max biou: 0.39969406\n",
      "index: 2 33 50 0\n",
      "box_label: [396.2595    256.3612      8.281      14.3797655]\n",
      "true label 3\n",
      "box: [396.2595    256.3612      8.281      14.3797655]\n",
      "pre_box: [399.97208   258.3544      5.7251844  13.813368 ]\n"
     ]
    }
   ],
   "source": [
    "loss1 = yolo_model.train_one_batch(imgs[0:1], boxes[0:4], obj_nums[0:1], 1e-4)"
   ]
  },
  {
   "cell_type": "code",
   "execution_count": 20,
   "metadata": {},
   "outputs": [
    {
     "data": {
      "text/plain": [
       "[1.3845959, 2.5851843, 2.7353356, 1.7239863, 2.3367043, 10.765806]"
      ]
     },
     "execution_count": 20,
     "metadata": {},
     "output_type": "execute_result"
    }
   ],
   "source": [
    "loss1"
   ]
  },
  {
   "cell_type": "code",
   "execution_count": 21,
   "metadata": {
    "collapsed": true
   },
   "outputs": [
    {
     "name": "stdout",
     "output_type": "stream",
     "text": [
      "normal:\n",
      "pre cate: 3\n",
      "conf: 0.524384315177282\n",
      "max biou: 0.95436114\n",
      "index: 2 38 4 2\n",
      "box_label: [ 19.081356 286.364     35.90644   37.7715  ]\n",
      "true label 3\n",
      "box: [ 19.081356 286.364     35.90644   37.7715  ]\n",
      "pre_box: [ 19.372158 286.71283   35.370476  36.59387 ]\n",
      "normal:\n",
      "pre cate: 6\n",
      "conf: 0.9930420156023153\n",
      "max biou: 0.95224994\n",
      "index: 0 8 6 2\n",
      "box_label: [ 46.89695 213.1415  351.12338 129.9415 ]\n",
      "true label 6\n",
      "box: [ 46.89695 213.1415  351.12338 129.9415 ]\n",
      "pre_box: [ 44.52031 211.16223 354.03592 135.3348 ]\n",
      "normal:\n",
      "pre cate: 27\n",
      "conf: 0.00048449912112168695\n",
      "max biou: 0.9023037\n",
      "index: 1 11 21 1\n",
      "box_label: [309.9905   157.8785    54.467796  44.6875  ]\n",
      "true label 25\n",
      "box: [309.9905   157.8785    54.467796  44.6875  ]\n",
      "pre_box: [309.18106 156.7643   55.89154  43.4664 ]\n"
     ]
    }
   ],
   "source": [
    "loss2 = yolo_model.train_one_batch(imgs[1:], boxes[4:], obj_nums[1:], 1e-4)"
   ]
  },
  {
   "cell_type": "code",
   "execution_count": 22,
   "metadata": {},
   "outputs": [
    {
     "data": {
      "text/plain": [
       "[8.284907, 0.13634284, 0.04419381, 6.0023904, 0.09631026, 14.564145]"
      ]
     },
     "execution_count": 22,
     "metadata": {},
     "output_type": "execute_result"
    }
   ],
   "source": [
    "loss2"
   ]
  },
  {
   "cell_type": "code",
   "execution_count": 10,
   "metadata": {
    "scrolled": true
   },
   "outputs": [
    {
     "name": "stdout",
     "output_type": "stream",
     "text": [
      "normal:\n",
      "pre cate: 3\n",
      "conf: 0.549018993972115\n",
      "max biou: 0.702369\n",
      "index: 2 32 51 1\n",
      "box_label: [401.648    252.45451   14.352     20.868196]\n",
      "true label 3\n",
      "box: [401.648    252.45451   14.352     20.868196]\n",
      "pre_box: [404.71454  251.95474   10.631331  22.407839]\n",
      "normal:\n",
      "pre cate: 3\n",
      "conf: 0.6008980068699932\n",
      "max biou: 0.4438823\n",
      "index: 2 33 51 1\n",
      "box_label: [411.606    254.76347    4.394     21.978828]\n",
      "true label 3\n",
      "box: [411.606    254.76347    4.394     21.978828]\n",
      "pre_box: [406.45407  254.9805     9.68262   20.947025]\n",
      "normal:\n",
      "pre cate: 1\n",
      "conf: 0.8389136181017315\n",
      "max biou: 0.4397264\n",
      "index: 2 32 49 0\n",
      "box_label: [395.8695   256.78015    2.6325    14.574614]\n",
      "true label 1\n",
      "box: [395.8695   256.78015    2.6325    14.574614]\n",
      "pre_box: [393.8437    256.32486     4.3081517  13.199175 ]\n",
      "normal:\n",
      "pre cate: 3\n",
      "conf: 0.9048409657734725\n",
      "max biou: 0.39969406\n",
      "index: 2 33 50 0\n",
      "box_label: [396.2595    256.3612      8.281      14.3797655]\n",
      "true label 3\n",
      "box: [396.2595    256.3612      8.281      14.3797655]\n",
      "pre_box: [399.97208   258.3544      5.7251844  13.813368 ]\n"
     ]
    }
   ],
   "source": [
    "loss = yolo_model.train_one_batch(imgs, boxes, obj_nums, 1e-4)\n",
    "#loss = yolo_model.train_one_batch(imgs[-1:], boxes[-1:], obj_nums[-1:], 1e-4)"
   ]
  },
  {
   "cell_type": "code",
   "execution_count": 32,
   "metadata": {},
   "outputs": [
    {
     "ename": "NameError",
     "evalue": "name 'loss' is not defined",
     "output_type": "error",
     "traceback": [
      "\u001b[0;31m---------------------------------------------------------------------------\u001b[0m",
      "\u001b[0;31mNameError\u001b[0m                                 Traceback (most recent call last)",
      "\u001b[0;32m<ipython-input-32-b2257a647362>\u001b[0m in \u001b[0;36m<module>\u001b[0;34m\u001b[0m\n\u001b[1;32m      1\u001b[0m \u001b[0;31m# loss 1 2\u001b[0m\u001b[0;34m\u001b[0m\u001b[0;34m\u001b[0m\u001b[0;34m\u001b[0m\u001b[0m\n\u001b[0;32m----> 2\u001b[0;31m \u001b[0mloss\u001b[0m\u001b[0;34m\u001b[0m\u001b[0;34m\u001b[0m\u001b[0m\n\u001b[0m",
      "\u001b[0;31mNameError\u001b[0m: name 'loss' is not defined"
     ]
    }
   ],
   "source": [
    "# loss 1 2\n",
    "loss"
   ]
  },
  {
   "cell_type": "code",
   "execution_count": 5,
   "metadata": {},
   "outputs": [
    {
     "data": {
      "text/plain": [
       "[8.284907, 0.13634284, 0.04419381, 6.0023904, 0.09631026, 14.564145]"
      ]
     },
     "execution_count": 5,
     "metadata": {},
     "output_type": "execute_result"
    }
   ],
   "source": [
    "# loss 1\n",
    "loss"
   ]
  },
  {
   "cell_type": "code",
   "execution_count": 11,
   "metadata": {},
   "outputs": [
    {
     "data": {
      "text/plain": [
       "[1.3845959, 2.5851843, 2.7353356, 1.7239863, 2.3367043, 10.765806]"
      ]
     },
     "execution_count": 11,
     "metadata": {},
     "output_type": "execute_result"
    }
   ],
   "source": [
    "# loss 2\n",
    "loss"
   ]
  },
  {
   "cell_type": "code",
   "execution_count": 25,
   "metadata": {},
   "outputs": [
    {
     "data": {
      "text/plain": [
       "[99.128784, 22.744514, 22.109264, 29.133638, 6.147235, 179.263428]"
      ]
     },
     "execution_count": 25,
     "metadata": {},
     "output_type": "execute_result"
    }
   ],
   "source": [
    "# loss 1 2\n",
    "loss\n",
    "[x*2 for x in [49.564392, 11.372257, 11.054632, 14.566819, 3.0736175, 89.631714]]"
   ]
  },
  {
   "cell_type": "code",
   "execution_count": 24,
   "metadata": {},
   "outputs": [
    {
     "data": {
      "text/plain": [
       "[112.27609, 24.12722, 41.533005, 31.220829, 4.8706536, 214.0278]"
      ]
     },
     "execution_count": 24,
     "metadata": {},
     "output_type": "execute_result"
    }
   ],
   "source": [
    "# loss 1\n",
    "loss"
   ]
  },
  {
   "cell_type": "code",
   "execution_count": 18,
   "metadata": {},
   "outputs": [
    {
     "data": {
      "text/plain": [
       "[0.02701771, 0.0, 0.0, 2.98554, 0.17888442, 3.191442]"
      ]
     },
     "execution_count": 18,
     "metadata": {},
     "output_type": "execute_result"
    }
   ],
   "source": [
    "# loss 2\n",
    "loss"
   ]
  },
  {
   "cell_type": "code",
   "execution_count": 70,
   "metadata": {},
   "outputs": [
    {
     "data": {
      "text/plain": [
       "[0.30802732706069946,\n",
       " 0.29952889680862427,\n",
       " 0.45458143949508667,\n",
       " 2.925740957260132,\n",
       " 0.8932781219482422,\n",
       " 4.881156921386719]"
      ]
     },
     "execution_count": 70,
     "metadata": {},
     "output_type": "execute_result"
    }
   ],
   "source": [
    "# loss 1 2\n",
    "[2*x for x in loss]"
   ]
  },
  {
   "cell_type": "code",
   "execution_count": 67,
   "metadata": {},
   "outputs": [
    {
     "data": {
      "text/plain": [
       "[0.27850989, 0.2995289, 0.45458144, 0.103428185, 0.7949697, 1.931018]"
      ]
     },
     "execution_count": 67,
     "metadata": {},
     "output_type": "execute_result"
    }
   ],
   "source": [
    "# loss 1\n",
    "loss"
   ]
  },
  {
   "cell_type": "code",
   "execution_count": 61,
   "metadata": {},
   "outputs": [
    {
     "data": {
      "text/plain": [
       "[0.029517438, 0.0, 0.0, 2.8223128, 0.09830846, 2.9501388]"
      ]
     },
     "execution_count": 61,
     "metadata": {},
     "output_type": "execute_result"
    }
   ],
   "source": [
    "# loss 2\n",
    "loss"
   ]
  },
  {
   "cell_type": "code",
   "execution_count": 92,
   "metadata": {},
   "outputs": [
    {
     "ename": "ValueError",
     "evalue": "Please change trainable model to 'False'",
     "output_type": "error",
     "traceback": [
      "\u001b[0;31m---------------------------------------------------------------------------\u001b[0m",
      "\u001b[0;31mAssertionError\u001b[0m                            Traceback (most recent call last)",
      "\u001b[0;32m~/Desktop/code/Yolov3_joint/model/yolov3_j.py\u001b[0m in \u001b[0;36minfer_simple\u001b[0;34m(self, imgs, positive_threshold, save_path, show_second_cate, debug_model, default_shape)\u001b[0m\n\u001b[1;32m    349\u001b[0m         \u001b[0;32mtry\u001b[0m\u001b[0;34m:\u001b[0m\u001b[0;34m\u001b[0m\u001b[0;34m\u001b[0m\u001b[0m\n\u001b[0;32m--> 350\u001b[0;31m             \u001b[0;32massert\u001b[0m \u001b[0mself\u001b[0m\u001b[0;34m.\u001b[0m\u001b[0mtrainable\u001b[0m \u001b[0;34m==\u001b[0m \u001b[0;32mFalse\u001b[0m\u001b[0;34m\u001b[0m\u001b[0;34m\u001b[0m\u001b[0m\n\u001b[0m\u001b[1;32m    351\u001b[0m         \u001b[0;32mexcept\u001b[0m\u001b[0;34m:\u001b[0m\u001b[0;34m\u001b[0m\u001b[0;34m\u001b[0m\u001b[0m\n",
      "\u001b[0;31mAssertionError\u001b[0m: ",
      "\nDuring handling of the above exception, another exception occurred:\n",
      "\u001b[0;31mValueError\u001b[0m                                Traceback (most recent call last)",
      "\u001b[0;32m<ipython-input-92-158e79a43e5d>\u001b[0m in \u001b[0;36m<module>\u001b[0;34m\u001b[0m\n\u001b[1;32m      1\u001b[0m d1, d2, d3, d4 = yolo_model.infer_simple(\"debug/test_sexy_ob0的副本 3.jpg\", 0.7, \n\u001b[0;32m----> 2\u001b[0;31m                         \"debug_info/test_ob_result.jpg\", show_second_cate=False)\n\u001b[0m",
      "\u001b[0;32m~/Desktop/code/Yolov3_joint/model/yolov3_j.py\u001b[0m in \u001b[0;36minfer_simple\u001b[0;34m(self, imgs, positive_threshold, save_path, show_second_cate, debug_model, default_shape)\u001b[0m\n\u001b[1;32m    350\u001b[0m             \u001b[0;32massert\u001b[0m \u001b[0mself\u001b[0m\u001b[0;34m.\u001b[0m\u001b[0mtrainable\u001b[0m \u001b[0;34m==\u001b[0m \u001b[0;32mFalse\u001b[0m\u001b[0;34m\u001b[0m\u001b[0;34m\u001b[0m\u001b[0m\n\u001b[1;32m    351\u001b[0m         \u001b[0;32mexcept\u001b[0m\u001b[0;34m:\u001b[0m\u001b[0;34m\u001b[0m\u001b[0;34m\u001b[0m\u001b[0m\n\u001b[0;32m--> 352\u001b[0;31m             \u001b[0;32mraise\u001b[0m \u001b[0mValueError\u001b[0m\u001b[0;34m(\u001b[0m\u001b[0;34m\"Please change trainable model to 'False'\"\u001b[0m\u001b[0;34m)\u001b[0m\u001b[0;34m\u001b[0m\u001b[0;34m\u001b[0m\u001b[0m\n\u001b[0m\u001b[1;32m    353\u001b[0m         \u001b[0mscale\u001b[0m \u001b[0;34m=\u001b[0m \u001b[0;32mNone\u001b[0m\u001b[0;34m\u001b[0m\u001b[0;34m\u001b[0m\u001b[0m\n\u001b[1;32m    354\u001b[0m         \u001b[0mimgs_o\u001b[0m \u001b[0;34m=\u001b[0m \u001b[0;32mNone\u001b[0m\u001b[0;34m\u001b[0m\u001b[0;34m\u001b[0m\u001b[0m\n",
      "\u001b[0;31mValueError\u001b[0m: Please change trainable model to 'False'"
     ]
    }
   ],
   "source": [
    "yolo_model.infer_simple(\"debug/test_sexy_ob0的副本 3.jpg\", 0.7, \n",
    "                        \"debug_info/test_ob_result.jpg\", show_second_cate=False)"
   ]
  },
  {
   "cell_type": "code",
   "execution_count": 8,
   "metadata": {},
   "outputs": [
    {
     "data": {
      "text/plain": [
       "([array([[0, 6, 4, 1]]), array([[ 0, 10,  8,  0],\n",
       "         [ 0, 12,  9,  2],\n",
       "         [ 0, 13,  9,  2],\n",
       "         [ 0, 13, 17,  2],\n",
       "         [ 0, 14, 17,  2],\n",
       "         [ 0, 15, 13,  2],\n",
       "         [ 0, 16, 13,  2]]), array([[ 0, 17, 18,  0],\n",
       "         [ 0, 17, 27,  0],\n",
       "         [ 0, 17, 27,  1]])], [0, 1, 2])"
      ]
     },
     "execution_count": 8,
     "metadata": {},
     "output_type": "execute_result"
    }
   ],
   "source": [
    "d1"
   ]
  },
  {
   "cell_type": "code",
   "execution_count": 9,
   "metadata": {},
   "outputs": [
    {
     "data": {
      "text/plain": [
       "[0, 1, 2]"
      ]
     },
     "execution_count": 9,
     "metadata": {},
     "output_type": "execute_result"
    }
   ],
   "source": [
    "d4"
   ]
  },
  {
   "cell_type": "code",
   "execution_count": 6,
   "metadata": {},
   "outputs": [
    {
     "data": {
      "text/plain": [
       "[array([0.99798], dtype=float32),\n",
       " array([0.7464632 , 0.994548  , 0.9987186 , 0.9994949 , 0.9824884 ,\n",
       "        0.99980366, 0.9959407 ], dtype=float32),\n",
       " array([0.82658887, 0.7645483 , 0.82718396], dtype=float32)]"
      ]
     },
     "execution_count": 6,
     "metadata": {},
     "output_type": "execute_result"
    }
   ],
   "source": [
    "d2"
   ]
  },
  {
   "cell_type": "code",
   "execution_count": 7,
   "metadata": {},
   "outputs": [
    {
     "data": {
      "text/plain": [
       "[array([0]), array([26,  0,  0,  0,  0, 21, 21]), array([67,  0,  0])]"
      ]
     },
     "execution_count": 7,
     "metadata": {},
     "output_type": "execute_result"
    }
   ],
   "source": [
    "d3"
   ]
  },
  {
   "cell_type": "code",
   "execution_count": 21,
   "metadata": {},
   "outputs": [
    {
     "data": {
      "text/plain": [
       "[3.2957153, 1.416503, 1.1246705, 0.23619682, 0.6656013, 6.738687]"
      ]
     },
     "execution_count": 21,
     "metadata": {},
     "output_type": "execute_result"
    }
   ],
   "source": [
    "loss"
   ]
  },
  {
   "cell_type": "code",
   "execution_count": 3,
   "metadata": {},
   "outputs": [
    {
     "name": "stdout",
     "output_type": "stream",
     "text": [
      "batch_ids: [262145] [62.8566, 22.494284, 18.991474, 26.834799, 20.574482, 151.75163]\n",
      "batch_ids: [131074] [16.942482, 5.027621, 5.255746, 13.591469, 4.1545863, 44.971905]\n",
      "batch_ids: [524291] [0.46907282, 5.8102913, 2.4635446, 10.797701, 2.9412313, 22.48184]\n",
      "batch_ids: [131075] [1.2958496, 2.268006, 3.0766644, 13.992015, 2.2155418, 22.848076]\n",
      "batch_ids: [393221] [6.9084945, 0.037902664, 0.49174052, 4.673179, 1.2766643, 13.387981]\n",
      "batch_ids: [262146] [3.8804655, 0.7714424, 1.2063843, 1.7945168, 1.2113817, 8.864191]\n"
     ]
    }
   ],
   "source": [
    "# loss new\n",
    "for i in range(6):\n",
    "    imgs, boxes, _, obj_nums, batch_ids = cocodata.get_batch(1, joint_batch_size=0,image_size=416,)\n",
    "    loss = yolo_model.train_one_batch(imgs, boxes, obj_nums, 1e-4, debug_model=True)\n",
    "    print(\"batch_ids:\", batch_ids, loss)"
   ]
  },
  {
   "cell_type": "code",
   "execution_count": null,
   "metadata": {},
   "outputs": [],
   "source": [
    "batch_ids: [262145] [62.8566, 22.494284, 18.991474, 26.834799, 20.573212, 151.75037]\n",
    "batch_ids: [131074] [16.942482, 5.027621, 5.255746, 13.591469, 3.859408, 44.676727]\n",
    "batch_ids: [524291] [0.46907282, 5.8102913, 2.4635446, 10.797701, 1.6118007, 21.15241]\n",
    "batch_ids: [131075] [1.2958496, 2.268006, 3.0766644, 13.992015, 2.1984944, 22.831028]\n",
    "batch_ids: [393221] [6.9084945, 0.037902664, 0.49174052, 4.673179, 1.2766643, 13.387981]\n",
    "batch_ids: [262146] [3.8804655, 0.7714424, 1.2063843, 1.7945168, 1.2111896, 8.863998]"
   ]
  },
  {
   "cell_type": "code",
   "execution_count": 4,
   "metadata": {},
   "outputs": [
    {
     "name": "stdout",
     "output_type": "stream",
     "text": [
      "batch_ids: [393223] [0.3922114, 0.83125544, 0.2158002, 1.1097792, 0.70948964, 3.2585359]\n",
      "batch_ids: [393224] [4.9680758, 3.6618125, 1.3987001, 0.8842538, 1.5037549, 12.416596]\n",
      "batch_ids: [524297] [0.43509832, 0.77164006, 0.79368114, 2.2637227, 4.3287945, 8.5929365]\n",
      "batch_ids: [9] [5.7087736, 3.3099456, 2.9685078, 15.776247, 2.0668385, 29.830313]\n",
      "batch_ids: [393227] [0.0013142496, 0.2158281, 0.34771937, 0.0018896987, 0.9196001, 1.4863515]\n",
      "batch_ids: [131084] [0.013143368, 1.9462914, 0.023282856, 0.001130129, 0.87197936, 2.8558273]\n"
     ]
    }
   ],
   "source": [
    "# loss old\n",
    "for i in range(6):\n",
    "    imgs, boxes, _, obj_nums, batch_ids = cocodata.get_batch(1, joint_batch_size=0,image_size=416,)\n",
    "    loss = yolo_model.train_one_batch(imgs, boxes, obj_nums, 1e-4, debug_model=True)\n",
    "    print(\"batch_ids:\", batch_ids, loss)"
   ]
  },
  {
   "cell_type": "code",
   "execution_count": 7,
   "metadata": {},
   "outputs": [
    {
     "data": {
      "text/plain": [
       "[18.065182, 4.293458, 7.293098, 7.099914, 0.8446157, 37.596268]"
      ]
     },
     "execution_count": 7,
     "metadata": {},
     "output_type": "execute_result"
    }
   ],
   "source": [
    "# loss old\n",
    "loss"
   ]
  },
  {
   "cell_type": "code",
   "execution_count": null,
   "metadata": {},
   "outputs": [],
   "source": [
    "sexy:2240 2070\n",
    "neutral : "
   ]
  },
  {
   "cell_type": "code",
   "execution_count": 5,
   "metadata": {},
   "outputs": [],
   "source": [
    "def box_iou(box1, box2, iou_type):\n",
    "    # box1: numpy of shape [4,]\n",
    "    # box2: numpy of shape [n, 4]\n",
    "\n",
    "    box1 = np.expand_dims(box1, 0)\n",
    "    if len(box2.shape) == 1:\n",
    "        box2 = np.expand_dims(box2, 0)\n",
    "    if iou_type == \"absolute\":\n",
    "        x11, y11, w1, h1 = box1[:,0], box1[:,1], box1[:,2], box1[:,3]\n",
    "        x21, y21, w2, h2 = box2[:,0], box2[:,1], box2[:,2], box2[:,3]\n",
    "        x12, y12 = x11 + w1, y11 + h1\n",
    "        x22, y22 = x21 + w2, y21 + h2\n",
    "    elif iou_type == \"relative\":\n",
    "        assert box2.shape[-1] == 2\n",
    "        w1, h1 = box1[:,2], box1[:,3]\n",
    "        w2, h2 = box2[:,0], box2[:,1]\n",
    "        x12, y12 = w1, h1\n",
    "        x22, y22 = w2, h2\n",
    "        x11, y11, x21, y21 = 0, 0, 0, 0\n",
    "    else:\n",
    "        raise ValueError(\"wrong iou type!\")\n",
    "\n",
    "    center_x1, center_y1 = np.maximum(x11, x21), np.maximum(y11, y21)\n",
    "    center_x2, center_y2 = np.minimum(x12, x22), np.minimum(y12, y22)\n",
    "    intersection = np.maximum(0, center_x2 - center_x1) * np.maximum(0, center_y2 - center_y1)\n",
    "    return intersection / (w1 * h1 + w2 * h2 - intersection + 1e-10)"
   ]
  },
  {
   "cell_type": "code",
   "execution_count": 10,
   "metadata": {},
   "outputs": [
    {
     "data": {
      "text/plain": [
       "array([1.])"
      ]
     },
     "execution_count": 10,
     "metadata": {},
     "output_type": "execute_result"
    }
   ],
   "source": [
    "import numpy as np\n",
    "box1 = np.array([2., 2., 4., 4.])\n",
    "box2 = np.array([[2., 2., 4., 4.]])\n",
    "box_iou(box1, box2, \"absolute\")"
   ]
  },
  {
   "cell_type": "code",
   "execution_count": 11,
   "metadata": {},
   "outputs": [
    {
     "data": {
      "text/plain": [
       "array([2., 2., 4., 4.])"
      ]
     },
     "execution_count": 11,
     "metadata": {},
     "output_type": "execute_result"
    }
   ],
   "source": [
    "box1"
   ]
  },
  {
   "cell_type": "code",
   "execution_count": 12,
   "metadata": {},
   "outputs": [
    {
     "data": {
      "text/plain": [
       "array([[2., 2., 4., 4.]])"
      ]
     },
     "execution_count": 12,
     "metadata": {},
     "output_type": "execute_result"
    }
   ],
   "source": [
    "box2"
   ]
  },
  {
   "cell_type": "code",
   "execution_count": 5,
   "metadata": {},
   "outputs": [
    {
     "data": {
      "text/plain": [
       "[1.0780926, 9.157759, 3.3625922, 1.583514, 2.985866, 18.167824]"
      ]
     },
     "execution_count": 5,
     "metadata": {},
     "output_type": "execute_result"
    }
   ],
   "source": [
    "loss"
   ]
  },
  {
   "cell_type": "code",
   "execution_count": 9,
   "metadata": {},
   "outputs": [
    {
     "data": {
      "text/plain": [
       "[0.057186626, 1.3978767, 0.2242391, 0.30274746, 0.13409805, 2.116148]"
      ]
     },
     "execution_count": 9,
     "metadata": {},
     "output_type": "execute_result"
    }
   ],
   "source": [
    "# 1 2\n",
    "loss"
   ]
  },
  {
   "cell_type": "code",
   "execution_count": 6,
   "metadata": {},
   "outputs": [
    {
     "data": {
      "text/plain": [
       "[0.05688738077878952,\n",
       " 1.3978767395019531,\n",
       " 0.22423909604549408,\n",
       " 0.053302545100450516,\n",
       " 0.13409805297851562,\n",
       " 1.8664038181304932]"
      ]
     },
     "execution_count": 6,
     "metadata": {},
     "output_type": "execute_result"
    }
   ],
   "source": [
    "# 1\n",
    "[x/2 for x in loss]"
   ]
  },
  {
   "cell_type": "code",
   "execution_count": 12,
   "metadata": {},
   "outputs": [
    {
     "data": {
      "text/plain": [
       "[0.00029924523551017046,\n",
       " 0.0,\n",
       " 0.0,\n",
       " 0.24944494664669037,\n",
       " 0.0,\n",
       " 0.24974419176578522]"
      ]
     },
     "execution_count": 12,
     "metadata": {},
     "output_type": "execute_result"
    }
   ],
   "source": [
    "# 2\n",
    "[x/2 for x in loss]"
   ]
  },
  {
   "cell_type": "code",
   "execution_count": 13,
   "metadata": {},
   "outputs": [
    {
     "data": {
      "text/plain": [
       "2.1161480098962784"
      ]
     },
     "execution_count": 13,
     "metadata": {},
     "output_type": "execute_result"
    }
   ],
   "source": [
    "0.24974419176578522 + 1.8664038181304932"
   ]
  },
  {
   "cell_type": "code",
   "execution_count": 2,
   "metadata": {},
   "outputs": [
    {
     "name": "stdout",
     "output_type": "stream",
     "text": [
      "load json:  /Users/thisiszhou/Documents/dataset/nsfw/annotations/train.json  succeed\n"
     ]
    }
   ],
   "source": [
    "from utils.fileio import json_load\n",
    "\n",
    "\n",
    "filename = \"/Users/thisiszhou/Documents/dataset/nsfw/annotations/train.json\"\n",
    "data = json_load(filename)"
   ]
  },
  {
   "cell_type": "code",
   "execution_count": 13,
   "metadata": {},
   "outputs": [
    {
     "data": {
      "text/plain": [
       "[{'supercategory': 1, 'id': 1, 'name': 'neutral'},\n",
       " {'supercategory': 1, 'id': 2, 'name': 'sexy'},\n",
       " {'supercategory': 1, 'id': 3, 'name': 'porn'}]"
      ]
     },
     "execution_count": 13,
     "metadata": {},
     "output_type": "execute_result"
    }
   ],
   "source": [
    "data[\"categories\"]"
   ]
  },
  {
   "cell_type": "code",
   "execution_count": 5,
   "metadata": {},
   "outputs": [],
   "source": [
    "class Bidict():\n",
    "    def __init__(self, init_dict=None):\n",
    "        if init_dict is None:\n",
    "            self.forward_dict = dict()\n",
    "            self.inverse_dict = dict()\n",
    "        else:\n",
    "            self.forward_dict = init_dict\n",
    "            self.inverse_dict = dict()\n",
    "            for key in self.forward_dict.keys():\n",
    "                value = self.forward_dict[key]\n",
    "                self.inverse_dict[value]=key\n",
    "    def __setitem__(self,key,value):\n",
    "        self.forward_dict[key] = value\n",
    "        self.inverse_dict[value] = key\n",
    "    def __getitem__(self, key):\n",
    "        return self.forward_dict[key]\n",
    "    def value2key(self, value):\n",
    "        return self.inverse_dict[value]\n",
    "    def keys(self):\n",
    "        return self.forward_dict.keys()\n",
    "    def values(self):\n",
    "        return self.inverse_dict.keys()"
   ]
  },
  {
   "cell_type": "code",
   "execution_count": 6,
   "metadata": {},
   "outputs": [],
   "source": [
    "b = Bidict()\n",
    "b[2] = \"a\"\n",
    "b[1] = \"b\""
   ]
  },
  {
   "cell_type": "code",
   "execution_count": 12,
   "metadata": {},
   "outputs": [
    {
     "data": {
      "text/plain": [
       "2"
      ]
     },
     "execution_count": 12,
     "metadata": {},
     "output_type": "execute_result"
    }
   ],
   "source": [
    "b.value2key(\"a\")"
   ]
  },
  {
   "cell_type": "code",
   "execution_count": 15,
   "metadata": {},
   "outputs": [
    {
     "data": {
      "text/plain": [
       "2"
      ]
     },
     "execution_count": 15,
     "metadata": {},
     "output_type": "execute_result"
    }
   ],
   "source": [
    "len(b.keys())"
   ]
  },
  {
   "cell_type": "code",
   "execution_count": 7,
   "metadata": {},
   "outputs": [],
   "source": [
    "import math\n",
    "log = math.log"
   ]
  },
  {
   "cell_type": "code",
   "execution_count": 26,
   "metadata": {},
   "outputs": [],
   "source": [
    "logits = 0.7\n",
    "label = 0.7\n",
    "num = -label*log(logits) - (1-label)*log(1-logits)\n",
    "for i in range(1, 1000):\n",
    "    logits = i / 1000\n",
    "    if (-label*log(logits) - (1-label)*log(1-logits)) < num:\n",
    "        print(i) "
   ]
  },
  {
   "cell_type": "code",
   "execution_count": 38,
   "metadata": {},
   "outputs": [
    {
     "data": {
      "text/plain": [
       "0.02302585092994046"
      ]
     },
     "execution_count": 38,
     "metadata": {},
     "output_type": "execute_result"
    }
   ],
   "source": [
    "logits = 0.9\n",
    "label = 0\n",
    "(-label*log(logits) - (1-label)*log(1-logits))*0.01"
   ]
  },
  {
   "cell_type": "code",
   "execution_count": 34,
   "metadata": {},
   "outputs": [],
   "source": [
    "import tensorflow as tf\n",
    "import numpy as np\n",
    "\n",
    "def nms(boxes, scores, classes, total_classes=range(80), max_num_boxes=50, activation_threshold=0.7, nms_threshold=0.6):\n",
    "    # boxes shape: [-1, 4]; scores shape: [-1]; classes shape: [-1]\n",
    "    # box: [x_min, y_min, x_max, _y_max]\n",
    "        \n",
    "\n",
    "    boxes_list, labels_list, scores_list = [], [], []\n",
    "    for cate in total_classes:\n",
    "        class_mask = tf.equal(classes, cate)\n",
    "        scores_mask = scores >= activation_threshold\n",
    "        activate_mask = class_mask & scores_mask\n",
    "        activate_boxes = tf.boolean_mask(boxes, activate_mask)\n",
    "        activate_scores = tf.boolean_mask(scores, activate_mask)\n",
    "        activate_indices = tf.image.non_max_suppression(boxes=activate_boxes,\n",
    "                                                   scores=activate_scores,\n",
    "                                                   max_output_size=max_num_boxes,\n",
    "                                                   iou_threshold=nms_threshold)\n",
    "        after_nms_boxes = tf.gather(activate_boxes, activate_indices)\n",
    "        after_nms_scores = tf.gather(activate_scores, activate_indices)\n",
    "        labels_list.append(tf.ones_like(after_nms_scores, dtype=tf.int32)*cate)\n",
    "        scores_list.append(after_nms_scores)\n",
    "        boxes_list.append(after_nms_boxes)\n",
    "        \n",
    "    boxes = tf.concat(boxes_list, axis=0)\n",
    "    scores = tf.concat(scores_list, axis=0)\n",
    "    labels = tf.concat(labels_list, axis=0)\n",
    "    \n",
    "    return boxes, scores, labels\n",
    "    \n",
    "def check_tensor(input_tensor):\n",
    "    shape = input_tensor.shape\n",
    "    print(\"shape:\", shape)\n",
    "    if shape[0] == 0:\n",
    "        return False\n",
    "    return True"
   ]
  },
  {
   "cell_type": "code",
   "execution_count": 41,
   "metadata": {},
   "outputs": [],
   "source": [
    "import tensorflow as tf\n",
    "import numpy as np\n",
    "\n",
    "boxes = np.array([[2,2,6,6],[2,2,5,5]], dtype=np.float32)\n",
    "scores = np.array([0.7,0.9], dtype=np.float32)\n",
    "classes = np.array([0,0], dtype=np.float32)\n",
    "\n",
    "boxes = tf.Variable(boxes, dtype=tf.float32)\n",
    "scores = tf.Variable(scores, dtype=tf.float32)\n",
    "classes = tf.Variable(classes, dtype=tf.float32)\n",
    "\n",
    "#boxes, scores, labels = nms(boxes, scores, classes)\n",
    "#r = nms(boxes, scores, classes)\n",
    "\n",
    "#j, k = tf.split(boxes, [4, 0], axis=-1)\n",
    "boxes = boxes[..., :2] - boxes[..., 2:4]\n",
    "#r = tf.image.non_max_suppression(boxes, scores, max_output_size=50, iou_threshold=0.5)\n",
    "with tf.Session() as sess:\n",
    "    sess.run(tf.global_variables_initializer())\n",
    "    #boxes, scores, labels = sess.run([boxes, scores, labels])\n",
    "    r = sess.run(boxes)"
   ]
  },
  {
   "cell_type": "code",
   "execution_count": 101,
   "metadata": {},
   "outputs": [
    {
     "name": "stdout",
     "output_type": "stream",
     "text": [
      "(array([0, 1, 1, 1]), array([3, 1, 2, 3]))\n"
     ]
    }
   ],
   "source": [
    "import tensorflow as tf\n",
    "import numpy as np\n",
    "\n",
    "\n",
    "boxes = np.array([[1,2,3,4],[3,4,5,6]], dtype=np.float32)\n",
    "print(np.where(boxes>3))\n",
    "test = np.array([5, 6, 7, 8])\n",
    "#boxes = np.array([[],[]], dtype=np.float32)\n",
    "boxes = tf.Variable(boxes)\n",
    "test = tf.Variable(test)\n",
    "argindex = tf.where(boxes > 3)\n",
    "#result = tf.gather_nd(boxes, argindex)\n",
    "result = tf.gather(test, argindex[:,1])"
   ]
  },
  {
   "cell_type": "code",
   "execution_count": 102,
   "metadata": {},
   "outputs": [],
   "source": [
    "with tf.Session() as sess:\n",
    "    sess.run(tf.global_variables_initializer())\n",
    "    r = sess.run(argindex)"
   ]
  },
  {
   "cell_type": "code",
   "execution_count": 103,
   "metadata": {},
   "outputs": [
    {
     "data": {
      "text/plain": [
       "array([[0, 3],\n",
       "       [1, 1],\n",
       "       [1, 2],\n",
       "       [1, 3]])"
      ]
     },
     "execution_count": 103,
     "metadata": {},
     "output_type": "execute_result"
    }
   ],
   "source": [
    "r"
   ]
  },
  {
   "cell_type": "code",
   "execution_count": 166,
   "metadata": {},
   "outputs": [],
   "source": [
    "import tensorflow as tf\n",
    "import numpy as np\n",
    "\n",
    "\n",
    "boxes = np.array([[1,2,3,4]], dtype=np.float32)\n",
    "test = np.array([[5, 6, 7, 8]], dtype=np.float32)\n",
    "boxes = tf.Variable(boxes)\n",
    "test = tf.Variable(test)\n",
    "result = boxes + test\n",
    "\n",
    "with tf.Session() as sess:\n",
    "    sess.run(tf.global_variables_initializer())\n",
    "    r = sess.run(result)"
   ]
  },
  {
   "cell_type": "code",
   "execution_count": 167,
   "metadata": {},
   "outputs": [
    {
     "data": {
      "text/plain": [
       "array([[ 6.,  8., 10., 12.]], dtype=float32)"
      ]
     },
     "execution_count": 167,
     "metadata": {},
     "output_type": "execute_result"
    }
   ],
   "source": [
    "r"
   ]
  },
  {
   "cell_type": "code",
   "execution_count": 164,
   "metadata": {},
   "outputs": [],
   "source": [
    "import tensorflow as tf\n",
    "import numpy as np\n",
    "\n",
    "np.random.seed(1)\n",
    "boxes = np.random.rand(1,4,9)\n",
    "test1 = np.random.rand(1)\n",
    "test2 = np.random.rand(4)\n",
    "test3 = np.random.rand(9)\n",
    "boxes = tf.Variable(boxes)\n",
    "test1 = tf.Variable(test1)\n",
    "test2 = tf.Variable(test2)\n",
    "test3 = tf.Variable(test3)\n",
    "\n",
    "index = tf.where(boxes > 0.9)\n",
    "x, y, z = index[:, 0], index[:, 1], index[:, 2]\n",
    "out = tf.gather(test2, y)\n",
    "with tf.Session() as sess:\n",
    "    sess.run(tf.global_variables_initializer())\n",
    "    r = sess.run(out)"
   ]
  },
  {
   "cell_type": "code",
   "execution_count": 192,
   "metadata": {},
   "outputs": [
    {
     "name": "stdout",
     "output_type": "stream",
     "text": [
      "[[[4.17022005e-01 7.20324493e-01 1.14374817e-04]]\n",
      "\n",
      " [[3.02332573e-01 1.46755891e-01 9.23385948e-02]]]\n"
     ]
    }
   ],
   "source": [
    "import tensorflow as tf\n",
    "import numpy as np\n",
    "\n",
    "np.random.seed(1)\n",
    "boxes = np.random.rand(2,1,3)\n",
    "print(boxes)\n",
    "boxes = tf.Variable(boxes)\n",
    "boxes = boxes[0,0,0].assign(1)\n",
    "#result = tf.argmax(boxes, axis=-1)\n",
    "result = boxes\n",
    "with tf.Session() as sess:\n",
    "    sess.run(tf.global_variables_initializer())\n",
    "    r = sess.run(result)"
   ]
  },
  {
   "cell_type": "code",
   "execution_count": 193,
   "metadata": {},
   "outputs": [
    {
     "data": {
      "text/plain": [
       "array([[[1.00000000e+00, 7.20324493e-01, 1.14374817e-04]],\n",
       "\n",
       "       [[3.02332573e-01, 1.46755891e-01, 9.23385948e-02]]])"
      ]
     },
     "execution_count": 193,
     "metadata": {},
     "output_type": "execute_result"
    }
   ],
   "source": [
    "r"
   ]
  },
  {
   "cell_type": "code",
   "execution_count": 2,
   "metadata": {},
   "outputs": [
    {
     "data": {
      "text/plain": [
       "array([[ 5,  7],\n",
       "       [13, 14]])"
      ]
     },
     "execution_count": 2,
     "metadata": {},
     "output_type": "execute_result"
    }
   ],
   "source": [
    "import numpy as np\n",
    "\n",
    "a = np.array([[1,2],\n",
    "             [9,9]])\n",
    "b = np.array([4, 5])\n",
    "a + b"
   ]
  },
  {
   "cell_type": "code",
   "execution_count": 9,
   "metadata": {},
   "outputs": [
    {
     "data": {
      "text/plain": [
       "(3, 6, 5)"
      ]
     },
     "execution_count": 9,
     "metadata": {},
     "output_type": "execute_result"
    }
   ],
   "source": [
    "a = np.ones([3, 6, 2])\n",
    "b = np.ones([3, 6, 3])\n",
    "np.concatenate([a, b], axis=-1).shape"
   ]
  },
  {
   "cell_type": "code",
   "execution_count": 43,
   "metadata": {},
   "outputs": [],
   "source": [
    "def box_iou(box1, box2, iou_type):\n",
    "    # box1: numpy of shape [4,]\n",
    "    # box2: numpy of shape [n, 4]\n",
    "    box1 = np.array(box1)\n",
    "    box2 = np.array(box2)\n",
    "    if len(box1.shape) == 1:\n",
    "        box1 = np.expand_dims(box1, 0)\n",
    "    else: \n",
    "        box1 = np.expand_dims(box1, -2)\n",
    "    if len(box2.shape) == 1:\n",
    "        box2 = np.expand_dims(box2, 0)\n",
    "    if iou_type == \"absolute\":\n",
    "        x11, y11, w1, h1 = box1[...,0], box1[...,1], box1[...,2], box1[...,3]\n",
    "        x21, y21, w2, h2 = box2[:,0], box2[:,1], box2[:,2], box2[:,3]\n",
    "        x12, y12 = x11 + w1, y11 + h1\n",
    "        x22, y22 = x21 + w2, y21 + h2\n",
    "    elif iou_type == \"relative\":\n",
    "        assert box2.shape[-1] == 2\n",
    "        w1, h1 = box1[:,2], box1[:,3]\n",
    "        w2, h2 = box2[:,0], box2[:,1]\n",
    "        x12, y12 = w1, h1\n",
    "        x22, y22 = w2, h2\n",
    "        x11, y11, x21, y21 = 0, 0, 0, 0\n",
    "    else:\n",
    "        raise ValueError(\"wrong iou type!\")\n",
    "    center_x1, center_y1 = np.maximum(x11, x21), np.maximum(y11, y21)\n",
    "    center_x2, center_y2 = np.minimum(x12, x22), np.minimum(y12, y22)\n",
    "    intersection = np.maximum(0, center_x2 - center_x1) * np.maximum(0, center_y2 - center_y1)\n",
    "    return intersection / (w1 * h1 + w2 * h2 - intersection + 1e-10)"
   ]
  },
  {
   "cell_type": "code",
   "execution_count": 44,
   "metadata": {},
   "outputs": [],
   "source": [
    "np.random.seed(32)\n",
    "box1 = np.random.randint(416, size=[8,8,4])\n",
    "box2 = np.random.randint(416, size=[9,4])\n",
    "iou = box_iou(box1, box2, \"absolute\")"
   ]
  },
  {
   "cell_type": "code",
   "execution_count": 41,
   "metadata": {},
   "outputs": [
    {
     "name": "stdout",
     "output_type": "stream",
     "text": [
      "[0.1166044  0.29838296 0.         0.28647963 0.         0.\n",
      " 0.07410751 0.70080278 0.16303482]\n",
      "[0.         0.         0.         0.11199658 0.         0.\n",
      " 0.         0.29425855 0.07033639]\n",
      "[0.1285488  0.22768974 0.         0.11677036 0.11692417 0.\n",
      " 0.16978517 0.14533591 0.06172869]\n",
      "[0.        0.        0.        0.        0.2402711 0.        0.\n",
      " 0.        0.       ]\n",
      "[0.17439703 0.02133391 0.         0.         0.04079551 0.\n",
      " 0.         0.00789789 0.        ]\n",
      "[0.00335683 0.         0.         0.         0.27582433 0.\n",
      " 0.         0.         0.        ]\n",
      "[0.         0.14775219 0.         0.15326049 0.         0.\n",
      " 0.16879433 0.07542008 0.1045094 ]\n",
      "[0.15202876 0.14797993 0.         0.         0.         0.\n",
      " 0.002363   0.2767601  0.        ]\n"
     ]
    }
   ],
   "source": [
    "for box in box1:\n",
    "    print(box_iou(box, box2, \"absolute\"))"
   ]
  },
  {
   "cell_type": "code",
   "execution_count": 48,
   "metadata": {},
   "outputs": [
    {
     "data": {
      "text/plain": [
       "(8, 8)"
      ]
     },
     "execution_count": 48,
     "metadata": {},
     "output_type": "execute_result"
    }
   ],
   "source": [
    "iou = np.max(iou, axis=-1)\n",
    "iou.shape"
   ]
  },
  {
   "cell_type": "code",
   "execution_count": 58,
   "metadata": {},
   "outputs": [],
   "source": [
    "a = np.ones([5,6])\n",
    "b = np.zeros([5,6,2])"
   ]
  },
  {
   "cell_type": "code",
   "execution_count": 59,
   "metadata": {},
   "outputs": [],
   "source": [
    "b[a==1, 0]=True"
   ]
  },
  {
   "cell_type": "code",
   "execution_count": 61,
   "metadata": {},
   "outputs": [
    {
     "data": {
      "text/plain": [
       "array([[[1., 0.],\n",
       "        [1., 0.],\n",
       "        [1., 0.],\n",
       "        [1., 0.],\n",
       "        [1., 0.],\n",
       "        [1., 0.]],\n",
       "\n",
       "       [[1., 0.],\n",
       "        [1., 0.],\n",
       "        [1., 0.],\n",
       "        [1., 0.],\n",
       "        [1., 0.],\n",
       "        [1., 0.]],\n",
       "\n",
       "       [[1., 0.],\n",
       "        [1., 0.],\n",
       "        [1., 0.],\n",
       "        [1., 0.],\n",
       "        [1., 0.],\n",
       "        [1., 0.]],\n",
       "\n",
       "       [[1., 0.],\n",
       "        [1., 0.],\n",
       "        [1., 0.],\n",
       "        [1., 0.],\n",
       "        [1., 0.],\n",
       "        [1., 0.]],\n",
       "\n",
       "       [[1., 0.],\n",
       "        [1., 0.],\n",
       "        [1., 0.],\n",
       "        [1., 0.],\n",
       "        [1., 0.],\n",
       "        [1., 0.]]])"
      ]
     },
     "execution_count": 61,
     "metadata": {},
     "output_type": "execute_result"
    }
   ],
   "source": [
    "b"
   ]
  },
  {
   "cell_type": "code",
   "execution_count": 12,
   "metadata": {},
   "outputs": [
    {
     "data": {
      "text/plain": [
       "22026.465794806718"
      ]
     },
     "execution_count": 12,
     "metadata": {},
     "output_type": "execute_result"
    }
   ],
   "source": [
    "import numpy as np\n",
    "np.exp(10)"
   ]
  },
  {
   "cell_type": "code",
   "execution_count": 8,
   "metadata": {},
   "outputs": [],
   "source": [
    "import numpy as np\n",
    "def sigmoid(x):\n",
    "    return 1.0 / (1 + np.exp(-x))"
   ]
  },
  {
   "cell_type": "code",
   "execution_count": 11,
   "metadata": {},
   "outputs": [
    {
     "data": {
      "text/plain": [
       "1.3838965267367376e-87"
      ]
     },
     "execution_count": 11,
     "metadata": {},
     "output_type": "execute_result"
    }
   ],
   "source": [
    "sigmoid(-200)"
   ]
  },
  {
   "cell_type": "code",
   "execution_count": 14,
   "metadata": {},
   "outputs": [],
   "source": [
    "def clip_exp(x, min=-200, max=100):\n",
    "    return np.exp(np.clip(x, -200, 100))"
   ]
  },
  {
   "cell_type": "code",
   "execution_count": 18,
   "metadata": {},
   "outputs": [
    {
     "data": {
      "text/plain": [
       "2.6881171418161356e+43"
      ]
     },
     "execution_count": 18,
     "metadata": {},
     "output_type": "execute_result"
    }
   ],
   "source": [
    "clip_exp(5000)"
   ]
  },
  {
   "cell_type": "code",
   "execution_count": 15,
   "metadata": {},
   "outputs": [],
   "source": [
    "from utils.fileio import json_load\n",
    "\n",
    "annotation_file = \"/Users/thisiszhou/Documents/dataset/\" + \\\n",
    "                    \"coco/annotations/instances_val2014.json\""
   ]
  },
  {
   "cell_type": "code",
   "execution_count": 16,
   "metadata": {},
   "outputs": [
    {
     "name": "stdout",
     "output_type": "stream",
     "text": [
      "load json:  /Users/thisiszhou/Documents/dataset/coco/annotations/instances_val2014.json  succeed\n"
     ]
    }
   ],
   "source": [
    "data = json_load(annotation_file)"
   ]
  },
  {
   "cell_type": "code",
   "execution_count": 22,
   "metadata": {},
   "outputs": [
    {
     "name": "stdout",
     "output_type": "stream",
     "text": [
      "{'segmentation': {'counts': [132499, 6, 341, 8, 339, 10, 337, 12, 336, 12, 336, 12, 336, 12, 339, 9, 339, 9, 339, 9, 338, 9, 339, 8, 27815, 7, 340, 10, 337, 14, 333, 17, 331, 18, 330, 18, 330, 19, 329, 19, 329, 19, 329, 19, 329, 20, 328, 21, 327, 22, 326, 22, 326, 22, 326, 22, 326, 22, 326, 22, 327, 21, 328, 20, 329, 19, 329, 18, 329, 19, 328, 20, 328, 20, 328, 20, 328, 19, 329, 18, 330, 17, 330, 18, 329, 19, 328, 20, 327, 21, 326, 22, 312, 8, 5, 24, 309, 12, 3, 24, 307, 42, 305, 43, 304, 44, 303, 45, 302, 46, 302, 46, 301, 47, 301, 47, 301, 47, 301, 47, 301, 46, 302, 46, 302, 45, 303, 45, 303, 44, 304, 43, 306, 24, 1, 16, 307, 24, 3, 12, 310, 22, 7, 6, 313, 22, 327, 20, 6, 7, 316, 18, 6, 10, 315, 16, 3, 14, 317, 12, 4, 15, 320, 6, 6, 17, 331, 16, 332, 16, 332, 16, 332, 16, 333, 15, 334, 13, 336, 11, 342, 3, 3468, 7, 340, 10, 337, 13, 335, 13, 335, 13, 335, 14, 334, 13, 335, 13, 334, 14, 334, 14, 334, 15, 332, 15, 332, 16, 331, 16, 331, 16, 331, 17, 330, 18, 330, 17, 331, 16, 332, 15, 333, 15, 333, 14, 334, 13, 334, 12, 335, 12, 335, 11, 330, 19, 328, 20, 327, 21, 326, 22, 326, 22, 326, 22, 326, 22, 326, 21, 326, 21, 326, 19, 329, 19, 329, 20, 328, 20, 328, 20, 328, 20, 328, 20, 329, 19, 330, 18, 332, 3, 2, 10, 339, 8, 342, 3, 15437], 'size': [348, 640]}, 'area': 2683, 'iscrowd': 1, 'image_id': 292618, 'bbox': [380, 208, 215, 59], 'category_id': 1, 'id': 900100292618}\n"
     ]
    }
   ],
   "source": [
    "num = 0\n",
    "for anno in data[\"annotations\"]:\n",
    "    if anno['iscrowd'] == 1:\n",
    "        num += 1\n",
    "    if num == 8:\n",
    "        print()\n",
    "        break\n",
    "        "
   ]
  },
  {
   "cell_type": "code",
   "execution_count": 18,
   "metadata": {},
   "outputs": [
    {
     "data": {
      "text/plain": [
       "{'segmentation': [[239.97,\n",
       "   260.24,\n",
       "   222.04,\n",
       "   270.49,\n",
       "   199.84,\n",
       "   253.41,\n",
       "   213.5,\n",
       "   227.79,\n",
       "   259.62,\n",
       "   200.46,\n",
       "   274.13,\n",
       "   202.17,\n",
       "   277.55,\n",
       "   210.71,\n",
       "   249.37,\n",
       "   253.41,\n",
       "   237.41,\n",
       "   264.51,\n",
       "   242.54,\n",
       "   261.95,\n",
       "   228.87,\n",
       "   271.34]],\n",
       " 'area': 2765.1486500000005,\n",
       " 'iscrowd': 0,\n",
       " 'image_id': 558840,\n",
       " 'bbox': [199.84, 200.46, 77.71, 70.88],\n",
       " 'category_id': 58,\n",
       " 'id': 156}"
      ]
     },
     "execution_count": 18,
     "metadata": {},
     "output_type": "execute_result"
    }
   ],
   "source": [
    "data[\"annotations\"][0]"
   ]
  },
  {
   "cell_type": "code",
   "execution_count": 10,
   "metadata": {},
   "outputs": [
    {
     "name": "stdout",
     "output_type": "stream",
     "text": [
      "0.0\n"
     ]
    }
   ],
   "source": [
    "import numpy as np\n",
    "import tensorflow as tf\n",
    "\n",
    "a = np.exp(-50)\n",
    "a = tf.sigmoid(-10000.)\n",
    "\n",
    "with tf.Session() as sess:\n",
    "    print(sess.run(a))"
   ]
  },
  {
   "cell_type": "code",
   "execution_count": 4,
   "metadata": {},
   "outputs": [
    {
     "data": {
      "text/plain": [
       "1.9287498479639178e-22"
      ]
     },
     "execution_count": 4,
     "metadata": {},
     "output_type": "execute_result"
    }
   ],
   "source": [
    "a"
   ]
  },
  {
   "cell_type": "code",
   "execution_count": 39,
   "metadata": {},
   "outputs": [],
   "source": [
    "def box_iou(box1, box2, iou_type):\n",
    "    # box1: numpy of shape [4,]\n",
    "    # box2: numpy of shape [n, 4]\n",
    "    box1 = np.array(box1)\n",
    "    box2 = np.array(box2)\n",
    "    if len(box1.shape) == 1:\n",
    "        box1 = np.expand_dims(box1, 0)\n",
    "    else:\n",
    "        box1 = np.expand_dims(box1, -2)\n",
    "    if len(box2.shape) == 1:\n",
    "        box2 = np.expand_dims(box2, 0)\n",
    "    if iou_type == \"absolute\":\n",
    "        x11, y11, w1, h1 = box1[...,0], box1[...,1], box1[...,2], box1[...,3]\n",
    "        x21, y21, w2, h2 = box2[...,0], box2[...,1], box2[...,2], box2[...,3]\n",
    "        x12, y12 = x11 + w1, y11 + h1\n",
    "        x22, y22 = x21 + w2, y21 + h2\n",
    "    elif iou_type == \"relative\":\n",
    "        assert box2.shape[-1] == 2\n",
    "        w1, h1 = box1[...,2], box1[...,3]\n",
    "        w2, h2 = box2[...,0], box2[...,1]\n",
    "        x12, y12 = w1, h1\n",
    "        x22, y22 = w2, h2\n",
    "        x11, y11, x21, y21 = 0, 0, 0, 0\n",
    "    else:\n",
    "        raise ValueError(\"wrong iou type!\")\n",
    "    center_x1, center_y1 = np.maximum(x11, x21), np.maximum(y11, y21)\n",
    "    center_x2, center_y2 = np.minimum(x12, x22), np.minimum(y12, y22)\n",
    "\n",
    "    intersection = np.maximum(0, center_x2 - center_x1) * np.maximum(0, center_y2 - center_y1)\n",
    "    return intersection / (w1 * h1 + w2 * h2 - intersection + 1e-8)"
   ]
  },
  {
   "cell_type": "code",
   "execution_count": 40,
   "metadata": {},
   "outputs": [],
   "source": [
    "box1 = np.random.randint(10, size=(4))\n",
    "box2 = np.random.randint(10, size=(1,4,3,4,2))"
   ]
  },
  {
   "cell_type": "code",
   "execution_count": 41,
   "metadata": {},
   "outputs": [
    {
     "data": {
      "text/plain": [
       "(1, 4, 3, 4)"
      ]
     },
     "execution_count": 41,
     "metadata": {},
     "output_type": "execute_result"
    }
   ],
   "source": [
    "box_iou(box1, box2, 'relative').shape"
   ]
  },
  {
   "cell_type": "code",
   "execution_count": 7,
   "metadata": {},
   "outputs": [],
   "source": [
    "import numpy as np\n",
    "a = np.ones([3, 4, 5])"
   ]
  },
  {
   "cell_type": "code",
   "execution_count": 8,
   "metadata": {},
   "outputs": [],
   "source": [
    "index = np.where(a == np.max(a))"
   ]
  },
  {
   "cell_type": "code",
   "execution_count": 9,
   "metadata": {},
   "outputs": [
    {
     "data": {
      "text/plain": [
       "(array([0, 0, 0, 0, 0, 0, 0, 0, 0, 0, 0, 0, 0, 0, 0, 0, 0, 0, 0, 0, 1, 1,\n",
       "        1, 1, 1, 1, 1, 1, 1, 1, 1, 1, 1, 1, 1, 1, 1, 1, 1, 1, 2, 2, 2, 2,\n",
       "        2, 2, 2, 2, 2, 2, 2, 2, 2, 2, 2, 2, 2, 2, 2, 2]),\n",
       " array([0, 0, 0, 0, 0, 1, 1, 1, 1, 1, 2, 2, 2, 2, 2, 3, 3, 3, 3, 3, 0, 0,\n",
       "        0, 0, 0, 1, 1, 1, 1, 1, 2, 2, 2, 2, 2, 3, 3, 3, 3, 3, 0, 0, 0, 0,\n",
       "        0, 1, 1, 1, 1, 1, 2, 2, 2, 2, 2, 3, 3, 3, 3, 3]),\n",
       " array([0, 1, 2, 3, 4, 0, 1, 2, 3, 4, 0, 1, 2, 3, 4, 0, 1, 2, 3, 4, 0, 1,\n",
       "        2, 3, 4, 0, 1, 2, 3, 4, 0, 1, 2, 3, 4, 0, 1, 2, 3, 4, 0, 1, 2, 3,\n",
       "        4, 0, 1, 2, 3, 4, 0, 1, 2, 3, 4, 0, 1, 2, 3, 4]))"
      ]
     },
     "execution_count": 9,
     "metadata": {},
     "output_type": "execute_result"
    }
   ],
   "source": [
    "index"
   ]
  },
  {
   "cell_type": "code",
   "execution_count": 48,
   "metadata": {},
   "outputs": [
    {
     "data": {
      "text/plain": [
       "array([0.99011368])"
      ]
     },
     "execution_count": 48,
     "metadata": {},
     "output_type": "execute_result"
    }
   ],
   "source": [
    "a[index]"
   ]
  },
  {
   "cell_type": "code",
   "execution_count": 12,
   "metadata": {},
   "outputs": [],
   "source": [
    "import tensorflow as tf\n",
    "import numpy as np\n",
    "\n",
    "a = np.array([[3,2,3],\n",
    "             [4,5,6]],dtype=np.float32)\n",
    "b = np.array([1,2,3], dtype=np.float32)\n",
    "\n",
    "a = tf.Variable(a)\n",
    "b = tf.Variable(b)\n",
    "\n",
    "with tf.Session() as sess:\n",
    "    sess.run(tf.global_variables_initializer())\n",
    "    c = sess.run(a * b)"
   ]
  },
  {
   "cell_type": "code",
   "execution_count": 13,
   "metadata": {},
   "outputs": [
    {
     "data": {
      "text/plain": [
       "array([[ 3.,  4.,  9.],\n",
       "       [ 4., 10., 18.]], dtype=float32)"
      ]
     },
     "execution_count": 13,
     "metadata": {},
     "output_type": "execute_result"
    }
   ],
   "source": [
    "c"
   ]
  },
  {
   "cell_type": "code",
   "execution_count": 12,
   "metadata": {},
   "outputs": [
    {
     "data": {
      "text/plain": [
       "array([[[1., 1., 1.],\n",
       "        [1., 1., 1.]],\n",
       "\n",
       "       [[1., 1., 1.],\n",
       "        [1., 1., 1.]],\n",
       "\n",
       "       [[1., 1., 1.],\n",
       "        [1., 1., 1.]]], dtype=float32)"
      ]
     },
     "execution_count": 12,
     "metadata": {},
     "output_type": "execute_result"
    }
   ],
   "source": [
    "c"
   ]
  },
  {
   "cell_type": "code",
   "execution_count": 9,
   "metadata": {},
   "outputs": [
    {
     "data": {
      "text/plain": [
       "1"
      ]
     },
     "execution_count": 9,
     "metadata": {},
     "output_type": "execute_result"
    }
   ],
   "source": [
    "a = np.array([True, False, False])\n",
    "np.sum(a)"
   ]
  },
  {
   "cell_type": "code",
   "execution_count": null,
   "metadata": {},
   "outputs": [],
   "source": []
  }
 ],
 "metadata": {
  "kernelspec": {
   "display_name": "Python 3",
   "language": "python",
   "name": "python3"
  },
  "language_info": {
   "codemirror_mode": {
    "name": "ipython",
    "version": 3
   },
   "file_extension": ".py",
   "mimetype": "text/x-python",
   "name": "python",
   "nbconvert_exporter": "python",
   "pygments_lexer": "ipython3",
   "version": "3.6.7"
  }
 },
 "nbformat": 4,
 "nbformat_minor": 2
}
