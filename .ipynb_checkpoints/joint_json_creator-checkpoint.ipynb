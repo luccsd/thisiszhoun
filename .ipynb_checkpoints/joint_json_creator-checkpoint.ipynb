{
 "cells": [
  {
   "cell_type": "code",
   "execution_count": 1,
   "metadata": {},
   "outputs": [
    {
     "name": "stdout",
     "output_type": "stream",
     "text": [
      "start to update  train :neutral\n",
      "duplicate: neutral_train_100000005.jpg\n",
      "duplicate: neutral_train_100000006.jpg\n",
      "duplicate: neutral_train_100000017.jpg\n",
      "duplicate: neutral_train_100000018.jpg\n",
      "duplicate: neutral_train_100000030.jpg\n",
      "duplicate: neutral_train_100000023.jpg\n",
      "duplicate: m1dony5gdzs_612237.jpg\n",
      "duplicate: i-ZhWVJpB-XL.jpg\n",
      "duplicate: kickingbaby_statue.jpg\n",
      "duplicate: creative-halloween-costumes-143-59f0846442932__700.jpg\n",
      "duplicate: 40235519291_8fc194ee22_k.jpg\n",
      "neutral  update dinished!\n",
      "start to update  train :sexy\n",
      "sexy  update dinished!\n",
      "start to update  train :porn\n",
      "porn  update dinished!\n",
      "save json:  /Users/thisiszhou/Documents/dataset/nsfw/annotations/train.json  succeed\n"
     ]
    }
   ],
   "source": [
    "import os\n",
    "import shutil\n",
    "import cv2\n",
    "import numpy as np\n",
    "import utils.fileio as io\n",
    "join = os.path.join\n",
    "\n",
    "\n",
    "def update_one_folder(photo_folder, train_type, supercategory):\n",
    "    category_file = [file for file in os.listdir(photo_folder) if file[0] != \".\"]\n",
    "    json_dict = dict()\n",
    "    json_dict[\"categories\"] = []\n",
    "    json_dict[\"images\"] = []\n",
    "    for i, cate in enumerate(category_file):\n",
    "        cate_dict = dict()\n",
    "        cate_dict['supercategory'] = supercategory\n",
    "        cate_dict['id'] = i + 1\n",
    "        cate_dict['name'] = cate\n",
    "        json_dict[\"categories\"].append(cate_dict)\n",
    "        update_one_cate(join(photo_folder, cate), \n",
    "                        i + 1,\n",
    "                        json_dict,\n",
    "                        train_type)\n",
    "    return json_dict\n",
    "\n",
    "\n",
    "def update_one_cate(cate_folder, category_id, json_dict, train_type):\n",
    "    # default: json_dict have no current label_id\n",
    "    \n",
    "    category = os.path.basename(cate_folder)\n",
    "    print(\"start to update \", train_type + \" :\" + category)\n",
    "    photos_name = [file for file in os.listdir(cate_folder) if file[0] != \".\"]\n",
    "    if os.path.exists(cate_folder+\"_tem\"):\n",
    "        shutil.rmtree(cate_folder+\"_tem\")\n",
    "    os.mkdir(cate_folder+\"_tem\")\n",
    "    duplicate_set = set([None])\n",
    "    image_id = 0\n",
    "    for i, filename in enumerate(photos_name):\n",
    "        origin_pic = cv2.imread(join(cate_folder, filename))\n",
    "        sum_ = np.sum(origin_pic)\n",
    "        if sum_ in duplicate_set:\n",
    "            #pass\n",
    "            print(\"duplicate:\", filename)\n",
    "        else:\n",
    "            duplicate_set.add(sum_)\n",
    "            img_str_id = category_id * 100000000 + image_id\n",
    "            new_filename = category + \"_\" + train_type + \"_\" + str(img_str_id) + \".jpg\"\n",
    "            shutil.move(join(cate_folder, filename), cate_folder+\"_tem/\" + new_filename)\n",
    "            append_dict = dict()\n",
    "            append_dict[\"file_name\"] = new_filename\n",
    "            append_dict[\"category_id\"] = category_id\n",
    "            append_dict[\"image_id\"] = img_str_id\n",
    "            json_dict[\"images\"].append(append_dict)\n",
    "            image_id += 1\n",
    "    shutil.rmtree(cate_folder)\n",
    "    shutil.move(cate_folder + \"_tem/\", cate_folder)\n",
    "    print(category, \" update dinished!\")\n",
    "    \n",
    "data_file = \"/Users/thisiszhou/Documents/dataset/nsfw\"\n",
    "update_data_type = \"train\" # \"train\"or \"val\" or \"all\"\n",
    "\n",
    "\n",
    "first_folder = [folder for folder in os.listdir(data_file) if folder[0] != \".\"]\n",
    "try:\n",
    "    if update_data_type == \"train\":\n",
    "        assert 'train' in set(first_folder)\n",
    "    elif update_data_type == \"all\":\n",
    "        assert 'train' in set(first_folder) and \"val\" in set(first_folder)\n",
    "except AssertionError:\n",
    "    raise OSError(\"no train or val folder!\")\n",
    "if not os.path.exists(join(data_file, \"annotations\")):\n",
    "    os.mkdir(join(data_file, \"annotations\"))\n",
    "    \n",
    "# update train\n",
    "if update_data_type == \"train\" or update_data_type == \"all\":\n",
    "    save_json = update_one_folder(join(data_file, \"train\"), \"train\", 1)\n",
    "    io.json_save(join(data_file, \"annotations\", \"train.json\"), save_json)\n",
    "# update val\n",
    "if update_data_type == \"val\" or update_data_type == \"all\":\n",
    "    save_json = update_one_folder(join(data_file, \"val\"), \"val\", 1)\n",
    "    io.json_save(join(data_file, \"annotations\", \"val.json\"), save_json)"
   ]
  },
  {
   "cell_type": "code",
   "execution_count": 35,
   "metadata": {},
   "outputs": [
    {
     "data": {
      "text/plain": [
       "dict_keys(['categories', 'images'])"
      ]
     },
     "execution_count": 35,
     "metadata": {},
     "output_type": "execute_result"
    }
   ],
   "source": [
    "save_json.keys()"
   ]
  },
  {
   "cell_type": "code",
   "execution_count": 36,
   "metadata": {},
   "outputs": [
    {
     "data": {
      "text/plain": [
       "[{'file_name': 'neutral_train_100000000.jpg',\n",
       "  'category_id': 1,\n",
       "  'image_id': 100000000},\n",
       " {'file_name': 'neutral_train_100000001.jpg',\n",
       "  'category_id': 1,\n",
       "  'image_id': 100000001},\n",
       " {'file_name': 'neutral_train_100000002.jpg',\n",
       "  'category_id': 1,\n",
       "  'image_id': 100000002},\n",
       " {'file_name': 'neutral_train_100000003.jpg',\n",
       "  'category_id': 1,\n",
       "  'image_id': 100000003},\n",
       " {'file_name': 'neutral_train_100000004.jpg',\n",
       "  'category_id': 1,\n",
       "  'image_id': 100000004},\n",
       " {'file_name': 'neutral_train_100000005.jpg',\n",
       "  'category_id': 1,\n",
       "  'image_id': 100000005},\n",
       " {'file_name': 'sexy_train_200000000.jpg',\n",
       "  'category_id': 2,\n",
       "  'image_id': 200000000},\n",
       " {'file_name': 'sexy_train_200000001.jpg',\n",
       "  'category_id': 2,\n",
       "  'image_id': 200000001},\n",
       " {'file_name': 'sexy_train_200000002.jpg',\n",
       "  'category_id': 2,\n",
       "  'image_id': 200000002},\n",
       " {'file_name': 'sexy_train_200000003.jpg',\n",
       "  'category_id': 2,\n",
       "  'image_id': 200000003},\n",
       " {'file_name': 'sexy_train_200000004.jpg',\n",
       "  'category_id': 2,\n",
       "  'image_id': 200000004},\n",
       " {'file_name': 'sexy_train_200000005.jpg',\n",
       "  'category_id': 2,\n",
       "  'image_id': 200000005},\n",
       " {'file_name': 'porn_train_300000000.jpg',\n",
       "  'category_id': 3,\n",
       "  'image_id': 300000000},\n",
       " {'file_name': 'porn_train_300000001.jpg',\n",
       "  'category_id': 3,\n",
       "  'image_id': 300000001},\n",
       " {'file_name': 'porn_train_300000002.jpg',\n",
       "  'category_id': 3,\n",
       "  'image_id': 300000002},\n",
       " {'file_name': 'porn_train_300000003.jpg',\n",
       "  'category_id': 3,\n",
       "  'image_id': 300000003},\n",
       " {'file_name': 'porn_train_300000004.jpg',\n",
       "  'category_id': 3,\n",
       "  'image_id': 300000004}]"
      ]
     },
     "execution_count": 36,
     "metadata": {},
     "output_type": "execute_result"
    }
   ],
   "source": [
    "save_json['images']"
   ]
  },
  {
   "cell_type": "code",
   "execution_count": 37,
   "metadata": {},
   "outputs": [
    {
     "data": {
      "text/plain": [
       "[{'supercategory': 1, 'id': 1, 'name': 'neutral'},\n",
       " {'supercategory': 1, 'id': 2, 'name': 'sexy'},\n",
       " {'supercategory': 1, 'id': 3, 'name': 'porn'}]"
      ]
     },
     "execution_count": 37,
     "metadata": {},
     "output_type": "execute_result"
    }
   ],
   "source": [
    "save_json['categories']"
   ]
  },
  {
   "cell_type": "code",
   "execution_count": 32,
   "metadata": {
    "collapsed": true
   },
   "outputs": [
    {
     "data": {
      "text/plain": [
       "[{'supercategory': 'person', 'id': 1, 'name': 'person'},\n",
       " {'supercategory': 'vehicle', 'id': 2, 'name': 'bicycle'},\n",
       " {'supercategory': 'vehicle', 'id': 3, 'name': 'car'},\n",
       " {'supercategory': 'vehicle', 'id': 4, 'name': 'motorcycle'},\n",
       " {'supercategory': 'vehicle', 'id': 5, 'name': 'airplane'},\n",
       " {'supercategory': 'vehicle', 'id': 6, 'name': 'bus'},\n",
       " {'supercategory': 'vehicle', 'id': 7, 'name': 'train'},\n",
       " {'supercategory': 'vehicle', 'id': 8, 'name': 'truck'},\n",
       " {'supercategory': 'vehicle', 'id': 9, 'name': 'boat'},\n",
       " {'supercategory': 'outdoor', 'id': 10, 'name': 'traffic light'},\n",
       " {'supercategory': 'outdoor', 'id': 11, 'name': 'fire hydrant'},\n",
       " {'supercategory': 'outdoor', 'id': 13, 'name': 'stop sign'},\n",
       " {'supercategory': 'outdoor', 'id': 14, 'name': 'parking meter'},\n",
       " {'supercategory': 'outdoor', 'id': 15, 'name': 'bench'},\n",
       " {'supercategory': 'animal', 'id': 16, 'name': 'bird'},\n",
       " {'supercategory': 'animal', 'id': 17, 'name': 'cat'},\n",
       " {'supercategory': 'animal', 'id': 18, 'name': 'dog'},\n",
       " {'supercategory': 'animal', 'id': 19, 'name': 'horse'},\n",
       " {'supercategory': 'animal', 'id': 20, 'name': 'sheep'},\n",
       " {'supercategory': 'animal', 'id': 21, 'name': 'cow'},\n",
       " {'supercategory': 'animal', 'id': 22, 'name': 'elephant'},\n",
       " {'supercategory': 'animal', 'id': 23, 'name': 'bear'},\n",
       " {'supercategory': 'animal', 'id': 24, 'name': 'zebra'},\n",
       " {'supercategory': 'animal', 'id': 25, 'name': 'giraffe'},\n",
       " {'supercategory': 'accessory', 'id': 27, 'name': 'backpack'},\n",
       " {'supercategory': 'accessory', 'id': 28, 'name': 'umbrella'},\n",
       " {'supercategory': 'accessory', 'id': 31, 'name': 'handbag'},\n",
       " {'supercategory': 'accessory', 'id': 32, 'name': 'tie'},\n",
       " {'supercategory': 'accessory', 'id': 33, 'name': 'suitcase'},\n",
       " {'supercategory': 'sports', 'id': 34, 'name': 'frisbee'},\n",
       " {'supercategory': 'sports', 'id': 35, 'name': 'skis'},\n",
       " {'supercategory': 'sports', 'id': 36, 'name': 'snowboard'},\n",
       " {'supercategory': 'sports', 'id': 37, 'name': 'sports ball'},\n",
       " {'supercategory': 'sports', 'id': 38, 'name': 'kite'},\n",
       " {'supercategory': 'sports', 'id': 39, 'name': 'baseball bat'},\n",
       " {'supercategory': 'sports', 'id': 40, 'name': 'baseball glove'},\n",
       " {'supercategory': 'sports', 'id': 41, 'name': 'skateboard'},\n",
       " {'supercategory': 'sports', 'id': 42, 'name': 'surfboard'},\n",
       " {'supercategory': 'sports', 'id': 43, 'name': 'tennis racket'},\n",
       " {'supercategory': 'kitchen', 'id': 44, 'name': 'bottle'},\n",
       " {'supercategory': 'kitchen', 'id': 46, 'name': 'wine glass'},\n",
       " {'supercategory': 'kitchen', 'id': 47, 'name': 'cup'},\n",
       " {'supercategory': 'kitchen', 'id': 48, 'name': 'fork'},\n",
       " {'supercategory': 'kitchen', 'id': 49, 'name': 'knife'},\n",
       " {'supercategory': 'kitchen', 'id': 50, 'name': 'spoon'},\n",
       " {'supercategory': 'kitchen', 'id': 51, 'name': 'bowl'},\n",
       " {'supercategory': 'food', 'id': 52, 'name': 'banana'},\n",
       " {'supercategory': 'food', 'id': 53, 'name': 'apple'},\n",
       " {'supercategory': 'food', 'id': 54, 'name': 'sandwich'},\n",
       " {'supercategory': 'food', 'id': 55, 'name': 'orange'},\n",
       " {'supercategory': 'food', 'id': 56, 'name': 'broccoli'},\n",
       " {'supercategory': 'food', 'id': 57, 'name': 'carrot'},\n",
       " {'supercategory': 'food', 'id': 58, 'name': 'hot dog'},\n",
       " {'supercategory': 'food', 'id': 59, 'name': 'pizza'},\n",
       " {'supercategory': 'food', 'id': 60, 'name': 'donut'},\n",
       " {'supercategory': 'food', 'id': 61, 'name': 'cake'},\n",
       " {'supercategory': 'furniture', 'id': 62, 'name': 'chair'},\n",
       " {'supercategory': 'furniture', 'id': 63, 'name': 'couch'},\n",
       " {'supercategory': 'furniture', 'id': 64, 'name': 'potted plant'},\n",
       " {'supercategory': 'furniture', 'id': 65, 'name': 'bed'},\n",
       " {'supercategory': 'furniture', 'id': 67, 'name': 'dining table'},\n",
       " {'supercategory': 'furniture', 'id': 70, 'name': 'toilet'},\n",
       " {'supercategory': 'electronic', 'id': 72, 'name': 'tv'},\n",
       " {'supercategory': 'electronic', 'id': 73, 'name': 'laptop'},\n",
       " {'supercategory': 'electronic', 'id': 74, 'name': 'mouse'},\n",
       " {'supercategory': 'electronic', 'id': 75, 'name': 'remote'},\n",
       " {'supercategory': 'electronic', 'id': 76, 'name': 'keyboard'},\n",
       " {'supercategory': 'electronic', 'id': 77, 'name': 'cell phone'},\n",
       " {'supercategory': 'appliance', 'id': 78, 'name': 'microwave'},\n",
       " {'supercategory': 'appliance', 'id': 79, 'name': 'oven'},\n",
       " {'supercategory': 'appliance', 'id': 80, 'name': 'toaster'},\n",
       " {'supercategory': 'appliance', 'id': 81, 'name': 'sink'},\n",
       " {'supercategory': 'appliance', 'id': 82, 'name': 'refrigerator'},\n",
       " {'supercategory': 'indoor', 'id': 84, 'name': 'book'},\n",
       " {'supercategory': 'indoor', 'id': 85, 'name': 'clock'},\n",
       " {'supercategory': 'indoor', 'id': 86, 'name': 'vase'},\n",
       " {'supercategory': 'indoor', 'id': 87, 'name': 'scissors'},\n",
       " {'supercategory': 'indoor', 'id': 88, 'name': 'teddy bear'},\n",
       " {'supercategory': 'indoor', 'id': 89, 'name': 'hair drier'},\n",
       " {'supercategory': 'indoor', 'id': 90, 'name': 'toothbrush'}]"
      ]
     },
     "execution_count": 32,
     "metadata": {},
     "output_type": "execute_result"
    }
   ],
   "source": [
    "data['categories']"
   ]
  },
  {
   "cell_type": "code",
   "execution_count": 33,
   "metadata": {},
   "outputs": [
    {
     "data": {
      "text/plain": [
       "dict_keys(['info', 'images', 'licenses', 'annotations', 'categories'])"
      ]
     },
     "execution_count": 33,
     "metadata": {},
     "output_type": "execute_result"
    }
   ],
   "source": [
    "data.keys()"
   ]
  },
  {
   "cell_type": "code",
   "execution_count": 40,
   "metadata": {},
   "outputs": [
    {
     "data": {
      "text/plain": [
       "{'segmentation': [[312.29,\n",
       "   562.89,\n",
       "   402.25,\n",
       "   511.49,\n",
       "   400.96,\n",
       "   425.38,\n",
       "   398.39,\n",
       "   372.69,\n",
       "   388.11,\n",
       "   332.85,\n",
       "   318.71,\n",
       "   325.14,\n",
       "   295.58,\n",
       "   305.86,\n",
       "   269.88,\n",
       "   314.86,\n",
       "   258.31,\n",
       "   337.99,\n",
       "   217.19,\n",
       "   321.29,\n",
       "   182.49,\n",
       "   343.13,\n",
       "   141.37,\n",
       "   348.27,\n",
       "   132.37,\n",
       "   358.55,\n",
       "   159.36,\n",
       "   377.83,\n",
       "   116.95,\n",
       "   421.53,\n",
       "   167.07,\n",
       "   499.92,\n",
       "   232.61,\n",
       "   560.32,\n",
       "   300.72,\n",
       "   571.89]],\n",
       " 'area': 54652.9556,\n",
       " 'iscrowd': 0,\n",
       " 'image_id': 480023,\n",
       " 'bbox': [116.95, 305.86, 285.3, 266.03],\n",
       " 'category_id': 58,\n",
       " 'id': 86}"
      ]
     },
     "execution_count": 40,
     "metadata": {},
     "output_type": "execute_result"
    }
   ],
   "source": [
    "data[\"annotations\"][0]"
   ]
  },
  {
   "cell_type": "code",
   "execution_count": 41,
   "metadata": {},
   "outputs": [
    {
     "data": {
      "text/plain": [
       "'a/b'"
      ]
     },
     "execution_count": 41,
     "metadata": {},
     "output_type": "execute_result"
    }
   ],
   "source": [
    "os.path.join(\"a\", \"b\")"
   ]
  },
  {
   "cell_type": "code",
   "execution_count": 45,
   "metadata": {},
   "outputs": [
    {
     "name": "stdout",
     "output_type": "stream",
     "text": [
      "in\n"
     ]
    }
   ],
   "source": [
    "update_data_type = \"new\"\n",
    "if update_data_type == \"train\" or \"all\":\n",
    "    print(\"in\")"
   ]
  },
  {
   "cell_type": "code",
   "execution_count": null,
   "metadata": {},
   "outputs": [],
   "source": []
  }
 ],
 "metadata": {
  "kernelspec": {
   "display_name": "Python 3",
   "language": "python",
   "name": "python3"
  },
  "language_info": {
   "codemirror_mode": {
    "name": "ipython",
    "version": 3
   },
   "file_extension": ".py",
   "mimetype": "text/x-python",
   "name": "python",
   "nbconvert_exporter": "python",
   "pygments_lexer": "ipython3",
   "version": "3.6.7"
  }
 },
 "nbformat": 4,
 "nbformat_minor": 2
}
